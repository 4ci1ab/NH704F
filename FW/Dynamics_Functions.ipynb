{
 "cells": [
  {
   "cell_type": "markdown",
   "id": "a2e6dcab-6b53-4848-beaf-cf33c59533a9",
   "metadata": {
    "tags": []
   },
   "source": [
    "#### Dynamics Functions: "
   ]
  },
  {
   "cell_type": "code",
   "execution_count": 524,
   "id": "46cc9bba-cb3c-4a8c-8a68-86e4a9188aa3",
   "metadata": {
    "tags": []
   },
   "outputs": [
    {
     "name": "stdout",
     "output_type": "stream",
     "text": [
      "Writing my_functions.py\n"
     ]
    }
   ],
   "source": [
    "%%writefile my_functions.py\n",
    "\n",
    "#Upload basic packages\n",
    "import numpy as np\n",
    "import pandas as pd\n",
    "import matplotlib.pyplot as plt\n",
    "from matplotlib import cm\n",
    "import math\n",
    "import os\n",
    "import matplotlib.patches as mpatches\n",
    "from scipy import constants\n",
    "import pickle"
   ]
  },
  {
   "cell_type": "code",
   "execution_count": 525,
   "id": "e0653485-cf56-49f2-bf89-14cf76cfda32",
   "metadata": {
    "tags": []
   },
   "outputs": [
    {
     "name": "stdout",
     "output_type": "stream",
     "text": [
      "Appending to my_functions.py\n"
     ]
    }
   ],
   "source": [
    "%%writefile -a my_functions.py\n",
    "\n",
    "#Determing server directory\n",
    "current_directory = os.getcwd()\n",
    "#print(current_directory)"
   ]
  },
  {
   "cell_type": "code",
   "execution_count": 526,
   "id": "88ff4e12-6ce6-4cc9-b771-777d052c4ff6",
   "metadata": {
    "tags": []
   },
   "outputs": [
    {
     "name": "stdout",
     "output_type": "stream",
     "text": [
      "Appending to my_functions.py\n"
     ]
    }
   ],
   "source": [
    "%%writefile -a my_functions.py\n",
    "\n",
    "#Importing the U(r) interpolation function for each sublevel\n",
    "input_dir = current_directory + '/Interpolations/U(r)/'\n",
    "\n",
    "# List of all sublevels \n",
    "sublevels = list(range(284, 347))\n",
    "sublevels.append('TEST')\n",
    "\n",
    "energy_interpolation = {}\n",
    "for sublevel in sublevels:\n",
    "    # Define the file name\n",
    "    fname = f\"U(r)_{sublevel}.pkl\"\n",
    "\n",
    "    # Define the full path of the input file\n",
    "    input_path = os.path.join(input_dir, fname)\n",
    "\n",
    "    # Read in the pkl file and store it in the dictionary\n",
    "    with open(input_path, 'rb') as file:\n",
    "        energy_interpolation[sublevel] = pickle.load(file)"
   ]
  },
  {
   "cell_type": "code",
   "execution_count": 527,
   "id": "b9a54071-102d-4599-99e0-0e0dd38c23c7",
   "metadata": {
    "tags": []
   },
   "outputs": [
    {
     "name": "stdout",
     "output_type": "stream",
     "text": [
      "Appending to my_functions.py\n"
     ]
    }
   ],
   "source": [
    "%%writefile -a my_functions.py\n",
    "\n",
    "#Importing the grad U interpolation function for each sublevel\n",
    "input_dir = current_directory + '/Interpolations/grad_U/'\n",
    "\n",
    "# List of all sublevels \n",
    "sublevels = list(range(284, 347))\n",
    "sublevels.append('TEST')\n",
    "\n",
    "grad_U = {}\n",
    "for sublevel in sublevels:\n",
    "    # Define the file name\n",
    "    fname = f\"grad_U_{sublevel}.pkl\"\n",
    "\n",
    "    # Define the full path of the input file\n",
    "    input_path = os.path.join(input_dir, fname)\n",
    "\n",
    "    # Read in the pkl file and store it in the dictionary\n",
    "    with open(input_path, 'rb') as file:\n",
    "        grad_U[sublevel] = pickle.load(file)"
   ]
  },
  {
   "cell_type": "code",
   "execution_count": 528,
   "id": "c30f04be-1564-4060-a52f-7adccc061270",
   "metadata": {
    "tags": []
   },
   "outputs": [
    {
     "name": "stdout",
     "output_type": "stream",
     "text": [
      "Appending to my_functions.py\n"
     ]
    }
   ],
   "source": [
    "%%writefile -a my_functions.py\n",
    "\n",
    "mRb = ((85*10**-3)/(602*10**21))"
   ]
  },
  {
   "cell_type": "code",
   "execution_count": 529,
   "id": "2594ca8c-eb69-42ca-8d11-583f88179612",
   "metadata": {
    "tags": []
   },
   "outputs": [
    {
     "name": "stdout",
     "output_type": "stream",
     "text": [
      "Appending to my_functions.py\n"
     ]
    }
   ],
   "source": [
    "%%writefile -a my_functions.py\n",
    "\n",
    "def Acceleration(sublevel, s):\n",
    "    \n",
    "    #interpolation was conducted for positive radial distance\n",
    "    #S should always be positive as it is just a magnitude, this is just an error safeguard \n",
    "    F_x = -1 * grad_U[sublevel](abs(s))  \n",
    "    \n",
    "    #print(F_x)\n",
    "    \n",
    "    a_x = F_x / mRb\n",
    "    \n",
    "    return a_x"
   ]
  },
  {
   "cell_type": "code",
   "execution_count": 530,
   "id": "4fbd8f98-96d0-4fe2-bc81-28b4bb57ab14",
   "metadata": {
    "tags": []
   },
   "outputs": [
    {
     "name": "stdout",
     "output_type": "stream",
     "text": [
      "Appending to my_functions.py\n"
     ]
    }
   ],
   "source": [
    "%%writefile -a my_functions.py\n",
    "\n",
    "def scaled_timestep_conserve_energy(sublevel, distance_to_wire, r_max):\n",
    "    # Find k from sublevel\n",
    "    k = sublevel - 315\n",
    "\n",
    "    # Define constants\n",
    "    Rwire = 15e-6  # Radius of wire\n",
    "    r_min = Rwire  # Minimum distance to wire\n",
    "\n",
    "    min_time_step = 1e-10\n",
    "    max_time_step = 100e-9\n",
    "\n",
    "    # Calculate a normalized distance factor with log scale\n",
    "    normalized_distance = max(0, min(np.log10(distance_to_wire - r_min + 1) / np.log10(r_max - r_min + 1), 1))\n",
    "\n",
    "    # Define a scaling function based on normalized distance and k\n",
    "    scaling_factor = min_time_step + normalized_distance * (max_time_step - min_time_step)\n",
    "\n",
    "    # Adjust the scaling factor based on the state (k)\n",
    "    scaling_factor /= abs(k - 32) + 1  # Adding 1 to avoid division by zero\n",
    "\n",
    "    # Ensure the time step stays within the specified range\n",
    "    scaled_step = max(min(scaling_factor, max_time_step), min_time_step)\n",
    "\n",
    "    return scaled_step"
   ]
  },
  {
   "cell_type": "code",
   "execution_count": 531,
   "id": "c08277a5-7a1d-4e06-bcdb-80b16343a3f5",
   "metadata": {
    "tags": []
   },
   "outputs": [
    {
     "name": "stdout",
     "output_type": "stream",
     "text": [
      "Appending to my_functions.py\n"
     ]
    }
   ],
   "source": [
    "%%writefile -a my_functions.py\n",
    "\n",
    "def scaled_timestep(sublevel, distance_to_wire, r_max):\n",
    "    # Find k from sublevel\n",
    "    k = sublevel - 315\n",
    "    \n",
    "    # Define constants\n",
    "    Rwire = 15e-6  # Radius of wire\n",
    "    r_min = Rwire  # Minimum distance to wire\n",
    "    \n",
    "    min_time_step = 1e-10\n",
    "    max_time_step = 100e-9\n",
    "    \n",
    "    # Calculate a normalized distance factor\n",
    "    normalized_distance = max(0, min((distance_to_wire - r_min) / (r_max - r_min), 1))\n",
    "    \n",
    "    # Define a scaling function based on normalized distance and k\n",
    "    scaling_factor = min_time_step + normalized_distance * (max_time_step - min_time_step)\n",
    "    \n",
    "    # Adjust the scaling factor based on the state (k) with a logarithmic scale\n",
    "    scaling_factor /= np.log10(abs(k - 32) + 1)  # Adding 1 to avoid log(0)\n",
    "    \n",
    "    # Ensure the time step stays within the specified range\n",
    "    scaled_step = max(min(scaling_factor, max_time_step), min_time_step)\n",
    "    \n",
    "    return scaled_step"
   ]
  },
  {
   "cell_type": "code",
   "execution_count": 532,
   "id": "30792711-f167-4834-bcd6-c38b7c3f9764",
   "metadata": {
    "tags": []
   },
   "outputs": [
    {
     "name": "stdout",
     "output_type": "stream",
     "text": [
      "Appending to my_functions.py\n"
     ]
    }
   ],
   "source": [
    "%%writefile -a my_functions.py\n",
    "\n",
    "def iterative_dynamics(t0, x0, vx0, y0, vy0, sublevel, delta_t0):\n",
    "    # Define constants\n",
    "    #sThresh1 = 20 * Rwire  # Distance threshold (used to change step size once we are closer to wire)\n",
    "    g = - 9.81  # Gravitational acceleration\n",
    "    \n",
    "    s0 = ((x0**2 + y0**2)**0.5)\n",
    " \n",
    "    # Calculate the time step based on s0\n",
    "    delta_t = scaled_timestep(sublevel, s0, 0.001)\n",
    "    \n",
    "    a0 = Acceleration(sublevel, s0) + g\n",
    "\n",
    "    # Calculate acceleration components\n",
    "    ax0 = (a0 * x0) / s0\n",
    "    ay0 = (a0 * y0) / s0\n",
    "\n",
    "    # Update time and position\n",
    "    t1 = t0 + delta_t\n",
    "    x1 = x0 + vx0 * delta_t + (ax0 * delta_t**2) / 2\n",
    "    vx1 = vx0 + ax0 * delta_t\n",
    "    y1 = y0 + vy0 * delta_t + (ay0 * delta_t**2) / 2\n",
    "    vy1 = vy0 + ay0 * delta_t\n",
    "\n",
    "    # Calculate the new distance from the origin\n",
    "    s1 = ((x1**2 + y1**2)**0.5)\n",
    "\n",
    "    # Calculate the new acceleration\n",
    "    a1 = Acceleration(sublevel, s1) + g        \n",
    "\n",
    "    # Update the time step based on s1\n",
    "    delta_t = scaled_timestep(sublevel, s1, 0.001)\n",
    "\n",
    "    # Return the updated values\n",
    "    return t1, x1, vx1, y1, vy1, a1, delta_t"
   ]
  },
  {
   "cell_type": "code",
   "execution_count": 533,
   "id": "0cf5d658-7672-4568-8c95-ee6413dca8c0",
   "metadata": {
    "tags": []
   },
   "outputs": [
    {
     "name": "stdout",
     "output_type": "stream",
     "text": [
      "Appending to my_functions.py\n"
     ]
    }
   ],
   "source": [
    "%%writefile -a my_functions.py\n",
    "\n",
    "def iterative_dynamics_for_energy(t0, x0, vx0, y0, vy0, sublevel, delta_t0):\n",
    "    # Define constants\n",
    "    #sThresh1 = 20 * Rwire  # Distance threshold (used to change step size once we are closer to wire)\n",
    "    g = - 9.81  # Gravitational acceleration\n",
    "    \n",
    "    s0 = ((x0**2 + y0**2)**0.5)\n",
    " \n",
    "    # Calculate the time step based on s0\n",
    "    delta_t = scaled_timestep_conserve_energy(sublevel, s0, 0.001)\n",
    "    \n",
    "    a0 = Acceleration(sublevel, s0) + g\n",
    "\n",
    "    # Calculate acceleration components\n",
    "    ax0 = (a0 * x0) / s0\n",
    "    ay0 = (a0 * y0) / s0\n",
    "\n",
    "    # Update time and position\n",
    "    t1 = t0 + delta_t\n",
    "    x1 = x0 + vx0 * delta_t + (ax0 * delta_t**2) / 2\n",
    "    vx1 = vx0 + ax0 * delta_t\n",
    "    y1 = y0 + vy0 * delta_t + (ay0 * delta_t**2) / 2\n",
    "    vy1 = vy0 + ay0 * delta_t\n",
    "\n",
    "    # Calculate the new distance from the origin\n",
    "    s1 = ((x1**2 + y1**2)**0.5)\n",
    "\n",
    "    # Calculate the new acceleration\n",
    "    a1 = Acceleration(sublevel, s1) + g        \n",
    "\n",
    "    # Update the time step based on s1\n",
    "    delta_t = scaled_timestep_conserve_energy(sublevel, s1, 0.001)\n",
    "\n",
    "    # Return the updated values\n",
    "    return t1, x1, vx1, y1, vy1, a1, delta_t"
   ]
  },
  {
   "cell_type": "code",
   "execution_count": 534,
   "id": "d03cd4c2-b56d-4833-8fb0-bae7f29e3657",
   "metadata": {
    "tags": []
   },
   "outputs": [
    {
     "name": "stdout",
     "output_type": "stream",
     "text": [
      "Appending to my_functions.py\n"
     ]
    }
   ],
   "source": [
    "%%writefile -a my_functions.py\n",
    "\n",
    "def perform_iterations_w_energy(initial_conditions):\n",
    "    \n",
    "     # Unpack initial conditions\n",
    "    t0, x0, vx0, y0, vy0, sublevel, delta_t0 = initial_conditions\n",
    "    \n",
    "    t = 0   #initialize time\n",
    "    Rwire = 15e-6  # (m) initialize min distance from origin\n",
    "    collision_indicator = 0 # binary variable to store if atom hits wire\n",
    "    \n",
    "    # Create a list to store position values\n",
    "    trajectory = []\n",
    "    \n",
    "    # Append the current position (x0, y0) to the trajectory list\n",
    "    trajectory.append([x0, y0])\n",
    "                       \n",
    "    # Create energy DataFrame for later use\n",
    "    energy_df = pd.DataFrame(columns=[\"Time\", \"Distance from Wire\", \"Kinetic Energy\", \"Potential Energy\", \"Total Energy\", \"% of Starting Energy\"])\n",
    "    \n",
    "    #Calculate initial energy values\n",
    "    s0 = ((x0**2 + y0**2)**0.5)\n",
    "    initial_potential_energy = energy_interpolation[sublevel](s0)\n",
    "    initial_kinetic_energy = 0.5 * mRb * (vx0**2 + vy0**2)\n",
    "    initial_total_energy = initial_kinetic_energy + initial_potential_energy\n",
    "    \n",
    "    #Use list to store energy values\n",
    "    initial_row = {\"Time\": 0, \"Distance from Wire\": s0 - Rwire, \"Kinetic Energy\": initial_kinetic_energy, \"Potential Energy\": initial_potential_energy, \"Total Energy\": initial_total_energy, \"% of Starting Energy\":1}\n",
    "    row_list = [initial_row]\n",
    "    \n",
    "    # Calculate tLimit based on the Interaction type          #Stop when it passes plot limits\n",
    "    # if sublevel < 300:\n",
    "    #     tLimit = (abs(y0) / vy0) * 1.2\n",
    "    # else:\n",
    "      #  tLimit = (abs(y0) / vy0) * 2\n",
    "        \n",
    "    tLimit = (abs(y0) / vy0) * 1.2   #use shorter time for 'TEST' \n",
    "    \n",
    "    while t < tLimit:\n",
    "        \n",
    "        t, x, vx, y, vy, a, delta_t = iterative_dynamics_for_energy(t0, x0, vx0, y0, vy0, sublevel, delta_t0)\n",
    "        \n",
    "        #Add new position values to list\n",
    "        trajectory.append([x, y])\n",
    "        \n",
    "        # Calculate energy values\n",
    "        kinetic_energy = 0.5 * mRb * (vx**2 + vy**2)\n",
    "        s1 = ((x**2 + y**2)**0.5)\n",
    "        potential_energy = energy_interpolation[sublevel](s1)\n",
    "        total_energy = kinetic_energy + potential_energy\n",
    "        energy_loss = total_energy/initial_total_energy\n",
    "        # Store the energy values as a dictionary\n",
    "        row = {\"Time\": t, \"Distance from Wire\": s1 - Rwire, \"Kinetic Energy\": kinetic_energy, \"Potential Energy\": potential_energy, \"Total Energy\": total_energy, \"% of Starting Energy\":energy_loss}\n",
    "    \n",
    "        # Add the row to the list\n",
    "        row_list.append(row)\n",
    "        \n",
    "        #Set new conditions as initial conditions for next iteration\n",
    "        t0, x0, vx0, y0, vy0, a0, delta_t0 = t, x, vx, y, vy, a, delta_t\n",
    "        \n",
    "        if s1 <= Rwire:\n",
    "            row_list.pop()\n",
    "            collision_indicator = 1\n",
    "            t = tLimit\n",
    "        \n",
    "    # Extract x and y values from the trajectories\n",
    "    x_values, y_values = zip(*trajectory)\n",
    "    \n",
    "    # Concatenate the list of rows into the DataFrame\n",
    "    energy_df = pd.concat([pd.DataFrame(row_list)], ignore_index=True)\n",
    "        \n",
    "    return x_values, y_values, energy_df, collision_indicator"
   ]
  },
  {
   "cell_type": "code",
   "execution_count": 535,
   "id": "1e4017cc-01ac-4535-bb77-24af87a6b834",
   "metadata": {
    "tags": []
   },
   "outputs": [
    {
     "name": "stdout",
     "output_type": "stream",
     "text": [
      "Appending to my_functions.py\n"
     ]
    }
   ],
   "source": [
    "%%writefile -a my_functions.py\n",
    "\n",
    "def perform_iterations_wout_energy(initial_conditions):\n",
    "    \n",
    "     # Unpack initial conditions\n",
    "    t0, x0, vx0, y0, vy0, sublevel, delta_t0 = initial_conditions\n",
    "    \n",
    "    t = 0   #initialize time\n",
    "    Rwire = 15e-6  # (m) initialize min distance from origin\n",
    "    collision_indicator = 0 # binary variable to store if atom hits wire \n",
    "    \n",
    "    # Create a list to store position values\n",
    "    trajectory = []\n",
    "    \n",
    "    # Append the current position (x0, y0) to the trajectory list\n",
    "    trajectory.append([x0, y0])\n",
    "    \n",
    "    #Calculate initial position\n",
    "    s0 = ((x0**2 + y0**2)**0.5)\n",
    "        \n",
    "    tLimit = (abs(y0) / vy0) * 1.5   #use shorter time for 'TEST' \n",
    "    \n",
    "    while t < tLimit:\n",
    "        \n",
    "        t, x, vx, y, vy, a, delta_t = iterative_dynamics(t0, x0, vx0, y0, vy0, sublevel, delta_t0)\n",
    "        \n",
    "        #Add new position values to list\n",
    "        trajectory.append([x, y])\n",
    "        \n",
    "        # Calculate new position\n",
    "        s1 = ((x**2 + y**2)**0.5)\n",
    "        \n",
    "        #Set new conditions as initial conditions for next iteration\n",
    "        t0, x0, vx0, y0, vy0, a0, delta_t0 = t, x, vx, y, vy, a, delta_t\n",
    "        \n",
    "        if s1 <= Rwire:\n",
    "            collision_indicator = 1\n",
    "            t = tLimit\n",
    "        \n",
    "    # Extract x and y values from the trajectories\n",
    "    x_values, y_values = zip(*trajectory)\n",
    "        \n",
    "    return x_values, y_values, collision_indicator"
   ]
  },
  {
   "cell_type": "code",
   "execution_count": null,
   "id": "a2693e7f-9b24-49a1-9ecc-3f02560938f0",
   "metadata": {},
   "outputs": [],
   "source": []
  }
 ],
 "metadata": {
  "kernelspec": {
   "display_name": "Python 3 (ipykernel)",
   "language": "python",
   "name": "python3"
  },
  "language_info": {
   "codemirror_mode": {
    "name": "ipython",
    "version": 3
   },
   "file_extension": ".py",
   "mimetype": "text/x-python",
   "name": "python",
   "nbconvert_exporter": "python",
   "pygments_lexer": "ipython3",
   "version": "3.11.4"
  }
 },
 "nbformat": 4,
 "nbformat_minor": 5
}
