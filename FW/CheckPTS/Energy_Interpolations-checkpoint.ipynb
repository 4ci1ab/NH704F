{
 "cells": [
  {
   "cell_type": "markdown",
   "id": "2036a08f-8577-454e-8c2a-39d9a60c1235",
   "metadata": {},
   "source": [
    "This notebook creates interpolations of potential energy as a functions of radial distance from a wire for Rydberg atoms. This the final version of our model and is based upon Mathematica code created by Anne Goodsell. The version in \"Original Workflow\" contains multiple visuals to better demonstrate what each cell is doing. These have been removed from this version to make the notebook as concise as possible. \n",
    "\n",
    "FFW | 10/19/2023"
   ]
  },
  {
   "cell_type": "code",
   "execution_count": 10,
   "id": "8e293ccd-6f0c-4e21-a414-61ab297cb1de",
   "metadata": {
    "tags": []
   },
   "outputs": [],
   "source": [
    "#Upload basic packages\n",
    "import numpy as np\n",
    "import pandas as pd\n",
    "import matplotlib.pyplot as plt\n",
    "from matplotlib import cm\n",
    "import math\n",
    "import os\n",
    "from scipy import constants\n",
    "import matplotlib.patches as mpatches\n",
    "import pickle"
   ]
  },
  {
   "cell_type": "markdown",
   "id": "98a5ac9e-f35f-4ef0-9af5-4ed14b55cab4",
   "metadata": {},
   "source": [
    "#### Loading in Stark Effect Data:"
   ]
  },
  {
   "cell_type": "code",
   "execution_count": 11,
   "id": "7d1898eb-f211-4623-a94d-e1f046f8aba5",
   "metadata": {
    "tags": []
   },
   "outputs": [],
   "source": [
    "#Determing server directory\n",
    "current_directory = os.getcwd()\n",
    "#print(current_directory)"
   ]
  },
  {
   "cell_type": "code",
   "execution_count": 12,
   "id": "cfb26347-9597-43a1-83aa-e4a564fd6840",
   "metadata": {
    "tags": []
   },
   "outputs": [
    {
     "ename": "FileNotFoundError",
     "evalue": "[Errno 2] No such file or directory: '/home/anaconda3/Wimberly_PHYS704_F23/Stark Map CSV files/StarkMapPlotList_FieldVcm_Energy_n35_284.csv'",
     "output_type": "error",
     "traceback": [
      "\u001b[0;31m---------------------------------------------------------------------------\u001b[0m",
      "\u001b[0;31mFileNotFoundError\u001b[0m                         Traceback (most recent call last)",
      "Cell \u001b[0;32mIn[12], line 13\u001b[0m\n\u001b[1;32m     11\u001b[0m \u001b[38;5;28;01mfor\u001b[39;00m sublevel \u001b[38;5;129;01min\u001b[39;00m sublevels:\n\u001b[1;32m     12\u001b[0m     filename \u001b[38;5;241m=\u001b[39m (fpath0 \u001b[38;5;241m+\u001b[39m file)\u001b[38;5;241m.\u001b[39mformat(sublevel)\n\u001b[0;32m---> 13\u001b[0m     starkmap_Vcm_cm[sublevel] \u001b[38;5;241m=\u001b[39m pd\u001b[38;5;241m.\u001b[39mread_csv(filename, index_col\u001b[38;5;241m=\u001b[39m\u001b[38;5;28;01mNone\u001b[39;00m, header\u001b[38;5;241m=\u001b[39m\u001b[38;5;28;01mNone\u001b[39;00m, skiprows \u001b[38;5;241m=\u001b[39m \u001b[38;5;241m1\u001b[39m)\n\u001b[1;32m     14\u001b[0m     temp_df \u001b[38;5;241m=\u001b[39m starkmap_Vcm_cm[sublevel]\u001b[38;5;241m.\u001b[39mcopy()            \u001b[38;5;66;03m#Copy the df\u001b[39;00m\n\u001b[1;32m     15\u001b[0m     temp_df[\u001b[38;5;241m0\u001b[39m] \u001b[38;5;241m*\u001b[39m\u001b[38;5;241m=\u001b[39m \u001b[38;5;241m1e2\u001b[39m                                  \u001b[38;5;66;03m#Convert V/cm to V/m\u001b[39;00m\n",
      "File \u001b[0;32m~/opt/anaconda3/envs/ulteelab/lib/python3.11/site-packages/pandas/util/_decorators.py:211\u001b[0m, in \u001b[0;36mdeprecate_kwarg.<locals>._deprecate_kwarg.<locals>.wrapper\u001b[0;34m(*args, **kwargs)\u001b[0m\n\u001b[1;32m    209\u001b[0m     \u001b[38;5;28;01melse\u001b[39;00m:\n\u001b[1;32m    210\u001b[0m         kwargs[new_arg_name] \u001b[38;5;241m=\u001b[39m new_arg_value\n\u001b[0;32m--> 211\u001b[0m \u001b[38;5;28;01mreturn\u001b[39;00m func(\u001b[38;5;241m*\u001b[39margs, \u001b[38;5;241m*\u001b[39m\u001b[38;5;241m*\u001b[39mkwargs)\n",
      "File \u001b[0;32m~/opt/anaconda3/envs/ulteelab/lib/python3.11/site-packages/pandas/util/_decorators.py:331\u001b[0m, in \u001b[0;36mdeprecate_nonkeyword_arguments.<locals>.decorate.<locals>.wrapper\u001b[0;34m(*args, **kwargs)\u001b[0m\n\u001b[1;32m    325\u001b[0m \u001b[38;5;28;01mif\u001b[39;00m \u001b[38;5;28mlen\u001b[39m(args) \u001b[38;5;241m>\u001b[39m num_allow_args:\n\u001b[1;32m    326\u001b[0m     warnings\u001b[38;5;241m.\u001b[39mwarn(\n\u001b[1;32m    327\u001b[0m         msg\u001b[38;5;241m.\u001b[39mformat(arguments\u001b[38;5;241m=\u001b[39m_format_argument_list(allow_args)),\n\u001b[1;32m    328\u001b[0m         \u001b[38;5;167;01mFutureWarning\u001b[39;00m,\n\u001b[1;32m    329\u001b[0m         stacklevel\u001b[38;5;241m=\u001b[39mfind_stack_level(),\n\u001b[1;32m    330\u001b[0m     )\n\u001b[0;32m--> 331\u001b[0m \u001b[38;5;28;01mreturn\u001b[39;00m func(\u001b[38;5;241m*\u001b[39margs, \u001b[38;5;241m*\u001b[39m\u001b[38;5;241m*\u001b[39mkwargs)\n",
      "File \u001b[0;32m~/opt/anaconda3/envs/ulteelab/lib/python3.11/site-packages/pandas/io/parsers/readers.py:950\u001b[0m, in \u001b[0;36mread_csv\u001b[0;34m(filepath_or_buffer, sep, delimiter, header, names, index_col, usecols, squeeze, prefix, mangle_dupe_cols, dtype, engine, converters, true_values, false_values, skipinitialspace, skiprows, skipfooter, nrows, na_values, keep_default_na, na_filter, verbose, skip_blank_lines, parse_dates, infer_datetime_format, keep_date_col, date_parser, dayfirst, cache_dates, iterator, chunksize, compression, thousands, decimal, lineterminator, quotechar, quoting, doublequote, escapechar, comment, encoding, encoding_errors, dialect, error_bad_lines, warn_bad_lines, on_bad_lines, delim_whitespace, low_memory, memory_map, float_precision, storage_options)\u001b[0m\n\u001b[1;32m    935\u001b[0m kwds_defaults \u001b[38;5;241m=\u001b[39m _refine_defaults_read(\n\u001b[1;32m    936\u001b[0m     dialect,\n\u001b[1;32m    937\u001b[0m     delimiter,\n\u001b[0;32m   (...)\u001b[0m\n\u001b[1;32m    946\u001b[0m     defaults\u001b[38;5;241m=\u001b[39m{\u001b[38;5;124m\"\u001b[39m\u001b[38;5;124mdelimiter\u001b[39m\u001b[38;5;124m\"\u001b[39m: \u001b[38;5;124m\"\u001b[39m\u001b[38;5;124m,\u001b[39m\u001b[38;5;124m\"\u001b[39m},\n\u001b[1;32m    947\u001b[0m )\n\u001b[1;32m    948\u001b[0m kwds\u001b[38;5;241m.\u001b[39mupdate(kwds_defaults)\n\u001b[0;32m--> 950\u001b[0m \u001b[38;5;28;01mreturn\u001b[39;00m _read(filepath_or_buffer, kwds)\n",
      "File \u001b[0;32m~/opt/anaconda3/envs/ulteelab/lib/python3.11/site-packages/pandas/io/parsers/readers.py:605\u001b[0m, in \u001b[0;36m_read\u001b[0;34m(filepath_or_buffer, kwds)\u001b[0m\n\u001b[1;32m    602\u001b[0m _validate_names(kwds\u001b[38;5;241m.\u001b[39mget(\u001b[38;5;124m\"\u001b[39m\u001b[38;5;124mnames\u001b[39m\u001b[38;5;124m\"\u001b[39m, \u001b[38;5;28;01mNone\u001b[39;00m))\n\u001b[1;32m    604\u001b[0m \u001b[38;5;66;03m# Create the parser.\u001b[39;00m\n\u001b[0;32m--> 605\u001b[0m parser \u001b[38;5;241m=\u001b[39m TextFileReader(filepath_or_buffer, \u001b[38;5;241m*\u001b[39m\u001b[38;5;241m*\u001b[39mkwds)\n\u001b[1;32m    607\u001b[0m \u001b[38;5;28;01mif\u001b[39;00m chunksize \u001b[38;5;129;01mor\u001b[39;00m iterator:\n\u001b[1;32m    608\u001b[0m     \u001b[38;5;28;01mreturn\u001b[39;00m parser\n",
      "File \u001b[0;32m~/opt/anaconda3/envs/ulteelab/lib/python3.11/site-packages/pandas/io/parsers/readers.py:1442\u001b[0m, in \u001b[0;36mTextFileReader.__init__\u001b[0;34m(self, f, engine, **kwds)\u001b[0m\n\u001b[1;32m   1439\u001b[0m     \u001b[38;5;28mself\u001b[39m\u001b[38;5;241m.\u001b[39moptions[\u001b[38;5;124m\"\u001b[39m\u001b[38;5;124mhas_index_names\u001b[39m\u001b[38;5;124m\"\u001b[39m] \u001b[38;5;241m=\u001b[39m kwds[\u001b[38;5;124m\"\u001b[39m\u001b[38;5;124mhas_index_names\u001b[39m\u001b[38;5;124m\"\u001b[39m]\n\u001b[1;32m   1441\u001b[0m \u001b[38;5;28mself\u001b[39m\u001b[38;5;241m.\u001b[39mhandles: IOHandles \u001b[38;5;241m|\u001b[39m \u001b[38;5;28;01mNone\u001b[39;00m \u001b[38;5;241m=\u001b[39m \u001b[38;5;28;01mNone\u001b[39;00m\n\u001b[0;32m-> 1442\u001b[0m \u001b[38;5;28mself\u001b[39m\u001b[38;5;241m.\u001b[39m_engine \u001b[38;5;241m=\u001b[39m \u001b[38;5;28mself\u001b[39m\u001b[38;5;241m.\u001b[39m_make_engine(f, \u001b[38;5;28mself\u001b[39m\u001b[38;5;241m.\u001b[39mengine)\n",
      "File \u001b[0;32m~/opt/anaconda3/envs/ulteelab/lib/python3.11/site-packages/pandas/io/parsers/readers.py:1735\u001b[0m, in \u001b[0;36mTextFileReader._make_engine\u001b[0;34m(self, f, engine)\u001b[0m\n\u001b[1;32m   1733\u001b[0m     \u001b[38;5;28;01mif\u001b[39;00m \u001b[38;5;124m\"\u001b[39m\u001b[38;5;124mb\u001b[39m\u001b[38;5;124m\"\u001b[39m \u001b[38;5;129;01mnot\u001b[39;00m \u001b[38;5;129;01min\u001b[39;00m mode:\n\u001b[1;32m   1734\u001b[0m         mode \u001b[38;5;241m+\u001b[39m\u001b[38;5;241m=\u001b[39m \u001b[38;5;124m\"\u001b[39m\u001b[38;5;124mb\u001b[39m\u001b[38;5;124m\"\u001b[39m\n\u001b[0;32m-> 1735\u001b[0m \u001b[38;5;28mself\u001b[39m\u001b[38;5;241m.\u001b[39mhandles \u001b[38;5;241m=\u001b[39m get_handle(\n\u001b[1;32m   1736\u001b[0m     f,\n\u001b[1;32m   1737\u001b[0m     mode,\n\u001b[1;32m   1738\u001b[0m     encoding\u001b[38;5;241m=\u001b[39m\u001b[38;5;28mself\u001b[39m\u001b[38;5;241m.\u001b[39moptions\u001b[38;5;241m.\u001b[39mget(\u001b[38;5;124m\"\u001b[39m\u001b[38;5;124mencoding\u001b[39m\u001b[38;5;124m\"\u001b[39m, \u001b[38;5;28;01mNone\u001b[39;00m),\n\u001b[1;32m   1739\u001b[0m     compression\u001b[38;5;241m=\u001b[39m\u001b[38;5;28mself\u001b[39m\u001b[38;5;241m.\u001b[39moptions\u001b[38;5;241m.\u001b[39mget(\u001b[38;5;124m\"\u001b[39m\u001b[38;5;124mcompression\u001b[39m\u001b[38;5;124m\"\u001b[39m, \u001b[38;5;28;01mNone\u001b[39;00m),\n\u001b[1;32m   1740\u001b[0m     memory_map\u001b[38;5;241m=\u001b[39m\u001b[38;5;28mself\u001b[39m\u001b[38;5;241m.\u001b[39moptions\u001b[38;5;241m.\u001b[39mget(\u001b[38;5;124m\"\u001b[39m\u001b[38;5;124mmemory_map\u001b[39m\u001b[38;5;124m\"\u001b[39m, \u001b[38;5;28;01mFalse\u001b[39;00m),\n\u001b[1;32m   1741\u001b[0m     is_text\u001b[38;5;241m=\u001b[39mis_text,\n\u001b[1;32m   1742\u001b[0m     errors\u001b[38;5;241m=\u001b[39m\u001b[38;5;28mself\u001b[39m\u001b[38;5;241m.\u001b[39moptions\u001b[38;5;241m.\u001b[39mget(\u001b[38;5;124m\"\u001b[39m\u001b[38;5;124mencoding_errors\u001b[39m\u001b[38;5;124m\"\u001b[39m, \u001b[38;5;124m\"\u001b[39m\u001b[38;5;124mstrict\u001b[39m\u001b[38;5;124m\"\u001b[39m),\n\u001b[1;32m   1743\u001b[0m     storage_options\u001b[38;5;241m=\u001b[39m\u001b[38;5;28mself\u001b[39m\u001b[38;5;241m.\u001b[39moptions\u001b[38;5;241m.\u001b[39mget(\u001b[38;5;124m\"\u001b[39m\u001b[38;5;124mstorage_options\u001b[39m\u001b[38;5;124m\"\u001b[39m, \u001b[38;5;28;01mNone\u001b[39;00m),\n\u001b[1;32m   1744\u001b[0m )\n\u001b[1;32m   1745\u001b[0m \u001b[38;5;28;01massert\u001b[39;00m \u001b[38;5;28mself\u001b[39m\u001b[38;5;241m.\u001b[39mhandles \u001b[38;5;129;01mis\u001b[39;00m \u001b[38;5;129;01mnot\u001b[39;00m \u001b[38;5;28;01mNone\u001b[39;00m\n\u001b[1;32m   1746\u001b[0m f \u001b[38;5;241m=\u001b[39m \u001b[38;5;28mself\u001b[39m\u001b[38;5;241m.\u001b[39mhandles\u001b[38;5;241m.\u001b[39mhandle\n",
      "File \u001b[0;32m~/opt/anaconda3/envs/ulteelab/lib/python3.11/site-packages/pandas/io/common.py:856\u001b[0m, in \u001b[0;36mget_handle\u001b[0;34m(path_or_buf, mode, encoding, compression, memory_map, is_text, errors, storage_options)\u001b[0m\n\u001b[1;32m    851\u001b[0m \u001b[38;5;28;01melif\u001b[39;00m \u001b[38;5;28misinstance\u001b[39m(handle, \u001b[38;5;28mstr\u001b[39m):\n\u001b[1;32m    852\u001b[0m     \u001b[38;5;66;03m# Check whether the filename is to be opened in binary mode.\u001b[39;00m\n\u001b[1;32m    853\u001b[0m     \u001b[38;5;66;03m# Binary mode does not support 'encoding' and 'newline'.\u001b[39;00m\n\u001b[1;32m    854\u001b[0m     \u001b[38;5;28;01mif\u001b[39;00m ioargs\u001b[38;5;241m.\u001b[39mencoding \u001b[38;5;129;01mand\u001b[39;00m \u001b[38;5;124m\"\u001b[39m\u001b[38;5;124mb\u001b[39m\u001b[38;5;124m\"\u001b[39m \u001b[38;5;129;01mnot\u001b[39;00m \u001b[38;5;129;01min\u001b[39;00m ioargs\u001b[38;5;241m.\u001b[39mmode:\n\u001b[1;32m    855\u001b[0m         \u001b[38;5;66;03m# Encoding\u001b[39;00m\n\u001b[0;32m--> 856\u001b[0m         handle \u001b[38;5;241m=\u001b[39m \u001b[38;5;28mopen\u001b[39m(\n\u001b[1;32m    857\u001b[0m             handle,\n\u001b[1;32m    858\u001b[0m             ioargs\u001b[38;5;241m.\u001b[39mmode,\n\u001b[1;32m    859\u001b[0m             encoding\u001b[38;5;241m=\u001b[39mioargs\u001b[38;5;241m.\u001b[39mencoding,\n\u001b[1;32m    860\u001b[0m             errors\u001b[38;5;241m=\u001b[39merrors,\n\u001b[1;32m    861\u001b[0m             newline\u001b[38;5;241m=\u001b[39m\u001b[38;5;124m\"\u001b[39m\u001b[38;5;124m\"\u001b[39m,\n\u001b[1;32m    862\u001b[0m         )\n\u001b[1;32m    863\u001b[0m     \u001b[38;5;28;01melse\u001b[39;00m:\n\u001b[1;32m    864\u001b[0m         \u001b[38;5;66;03m# Binary mode\u001b[39;00m\n\u001b[1;32m    865\u001b[0m         handle \u001b[38;5;241m=\u001b[39m \u001b[38;5;28mopen\u001b[39m(handle, ioargs\u001b[38;5;241m.\u001b[39mmode)\n",
      "\u001b[0;31mFileNotFoundError\u001b[0m: [Errno 2] No such file or directory: '/home/anaconda3/Wimberly_PHYS704_F23/Stark Map CSV files/StarkMapPlotList_FieldVcm_Energy_n35_284.csv'"
     ]
    }
   ],
   "source": [
    "#Initialize path to main Stark effect Folder\n",
    "fpath0 = '/home/anaconda3/Wimberly_PHYS704_F23/Stark Map CSV files/'\n",
    "file = 'StarkMapPlotList_FieldVcm_Energy_n35_{}.csv'\n",
    "\n",
    "# Generate list of all energy sublevels\n",
    "sublevels = list(range(284, 347))\n",
    "\n",
    "starkmap_Vcm_cm = {}\n",
    "starkmap_Vm_J = {}\n",
    "\n",
    "for sublevel in sublevels:\n",
    "    filename = (fpath0 + file).format(sublevel)\n",
    "    starkmap_Vcm_cm[sublevel] = pd.read_csv(filename, index_col=None, header=None, skiprows = 1)\n",
    "    temp_df = starkmap_Vcm_cm[sublevel].copy()            #Copy the df\n",
    "    temp_df[0] *= 1e2                                  #Convert V/cm to V/m\n",
    "    temp_df[1] *= 1e2                                  #Convert cm^-1 to m^-1\n",
    "    temp_df[1] *= (constants.h*constants.c)            #Convert energy from wavenumber (m^-1) to joules\n",
    "    starkmap_Vm_J[sublevel] = temp_df\n",
    "    starkmap_Vm_J[sublevel].columns = [ r'E Field $(V/m)$', 'U $(J)$']         #Label corrected units"
   ]
  },
  {
   "cell_type": "markdown",
   "id": "4a2dc7b4-b5eb-4789-9e93-4474f504275f",
   "metadata": {},
   "source": [
    "#### Initializing the wire and field"
   ]
  },
  {
   "cell_type": "code",
   "execution_count": 36,
   "id": "fbbd2a98-0fdf-4836-b0ce-549c57f26572",
   "metadata": {
    "tags": []
   },
   "outputs": [],
   "source": [
    "#Defining E(r) and r(E)\n",
    "def Efield(r):\n",
    "    \"\"\"\n",
    "    Calculate electric field strength at a given radial distance from a wire.\n",
    "    \n",
    "    Args:\n",
    "        r (float): The radial distance from the wire in meters.\n",
    "        \n",
    "    Returns:\n",
    "        float: The electric field strength in volts per meter (V/m) at the specified distance. \"\"\"\n",
    "    \n",
    "    E = (1 / r) * VHere / (math.log(R0 / Rwire))  # Volts per meter\n",
    "    \n",
    "    return E"
   ]
  },
  {
   "cell_type": "code",
   "execution_count": 37,
   "id": "0b3077a3-14ab-4d67-88b8-e893dda26e68",
   "metadata": {
    "tags": []
   },
   "outputs": [],
   "source": [
    "def r(Efield):\n",
    "    \"\"\"\n",
    "    Calculate the radial distance from a wire corresponding to a given electric field strength.\n",
    "    \n",
    "    Args:\n",
    "        Efield (float): The electric field strength in volts per meter (V/m).\n",
    "        \n",
    "    Returns:\n",
    "        float: The radial distance from the wire in meters that corresponds to the \n",
    "        specified electric field strength. \"\"\"\n",
    "    \n",
    "    r = (1 / Efield) * VHere / (math.log(R0 / Rwire))\n",
    "    \n",
    "    return r"
   ]
  },
  {
   "cell_type": "code",
   "execution_count": 38,
   "id": "1d7a7394-dec0-4b54-a3d5-e46883cf6e6d",
   "metadata": {
    "tags": []
   },
   "outputs": [],
   "source": [
    "#Defining some constants\n",
    "\n",
    "R0 = 0.15  # R0 = 0.15 m = 15 cm (not super important; imaginary radius at which electric potential is zero)\n",
    "Rwire = 15e-6  # Radius of the wire = 15 microns (15*10^-6 meters)\n",
    "VHere = 3  #Voltage of wire creating E field"
   ]
  },
  {
   "cell_type": "markdown",
   "id": "44754d62-bc91-4300-8f72-6e1f65ca0969",
   "metadata": {},
   "source": [
    "#### Creating Interpolations Functions:"
   ]
  },
  {
   "cell_type": "code",
   "execution_count": 39,
   "id": "386c89b4-8bc2-4441-8be1-ae78d36ad2eb",
   "metadata": {
    "tags": []
   },
   "outputs": [],
   "source": [
    "# Relating distance and energy for a given field strength\n",
    "\n",
    "r_of_E = {}\n",
    "starkmap_r = {}\n",
    "\n",
    "for sublevel in sublevels:\n",
    "    starkmap_r[sublevel] = starkmap_Vm_J[sublevel].copy()  #Create new df\n",
    "    # Calculate and add column with the radial distance\n",
    "    starkmap_r[sublevel]['Radial Distance (m)'] = r(starkmap_Vm_J[sublevel]['E Field $(V/m)$'])  "
   ]
  },
  {
   "cell_type": "markdown",
   "id": "e560ab6c-1f38-44e0-9869-3bd5ad1d2e82",
   "metadata": {
    "tags": []
   },
   "source": [
    "#### Outputing $U(r)$ files:"
   ]
  },
  {
   "cell_type": "code",
   "execution_count": 40,
   "id": "52cd6fcf-021f-4dd6-b16e-e3274f4a7b65",
   "metadata": {
    "tags": []
   },
   "outputs": [],
   "source": [
    "#Use BSpline interpolation as it has built in derivative function\n",
    "from scipy.interpolate import BSpline\n",
    "\n",
    "sorted_starkmap_r = {}\n",
    "energy_interpolation = {}\n",
    "for sublevel in sublevels:\n",
    "    sorted_starkmap_r[sublevel] = starkmap_r[sublevel].sort_values(by='Radial Distance (m)')\n",
    "    energy_interpolation[sublevel] = BSpline(sorted_starkmap_r[sublevel]['Radial Distance (m)'], sorted_starkmap_r[sublevel]['U $(J)$'], k = 1) \n",
    "#K = 1 turns out to produce the best fit"
   ]
  },
  {
   "cell_type": "code",
   "execution_count": 41,
   "id": "2336dbab-3fb2-471c-808d-c88268086f8a",
   "metadata": {
    "tags": []
   },
   "outputs": [],
   "source": [
    "#Write out interpolations to CSVs\n",
    "\n",
    "# Define the directory to save the pickle files\n",
    "output_dir = current_directory + '/Interpolations/U(r)/'\n",
    "\n",
    "for sublevel in sublevels:\n",
    "    \n",
    "    # Define the full path of the output file\n",
    "    fname = f\"U(r)_{sublevel}.pkl\"\n",
    "    output_path = os.path.join(output_dir, fname)\n",
    "\n",
    "    # Save the interpolation as a pickle file\n",
    "    with open(output_path, 'wb') as file:\n",
    "        pickle.dump(energy_interpolation[sublevel], file)"
   ]
  },
  {
   "cell_type": "markdown",
   "id": "dc5a436e-0a16-4b7b-9cf6-3fe2fdcf27bb",
   "metadata": {},
   "source": [
    "#### Outputing $\\nabla U$ files:"
   ]
  },
  {
   "cell_type": "code",
   "execution_count": 42,
   "id": "717941e8-3de3-46c2-8d04-275abc8b5c9d",
   "metadata": {
    "tags": []
   },
   "outputs": [],
   "source": [
    "#Solving for grad_U with built in derivative function\n",
    "\n",
    "grad_U = {}\n",
    "for sublevel in sublevels: \n",
    "    grad_U[sublevel] = energy_interpolation[sublevel].derivative()"
   ]
  },
  {
   "cell_type": "code",
   "execution_count": 43,
   "id": "40cc41ae-35c6-4f68-98cf-b507cfc62937",
   "metadata": {
    "tags": []
   },
   "outputs": [],
   "source": [
    "#Saving grad U(r)\n",
    "\n",
    "# Define the directory to save the pickle files\n",
    "output_dir = current_directory + '/Interpolations/grad_U/'\n",
    "\n",
    "for sublevel in sublevels:\n",
    "    \n",
    "    # Define the full path of the output file\n",
    "    fname = f\"grad_U_{sublevel}.pkl\"\n",
    "    output_path = os.path.join(output_dir, fname)\n",
    "\n",
    "    # Save the interpolation as a pickle file\n",
    "    with open(output_path, 'wb') as file:\n",
    "        pickle.dump(grad_U[sublevel], file)"
   ]
  },
  {
   "cell_type": "code",
   "execution_count": null,
   "id": "856e53e9-a1e2-4987-a76e-c7051f00d8fc",
   "metadata": {},
   "outputs": [],
   "source": []
  }
 ],
 "metadata": {
  "kernelspec": {
   "display_name": "Python 3 (ipykernel)",
   "language": "python",
   "name": "python3"
  },
  "language_info": {
   "codemirror_mode": {
    "name": "ipython",
    "version": 3
   },
   "file_extension": ".py",
   "mimetype": "text/x-python",
   "name": "python",
   "nbconvert_exporter": "python",
   "pygments_lexer": "ipython3",
   "version": "3.11.3"
  }
 },
 "nbformat": 4,
 "nbformat_minor": 5
}
