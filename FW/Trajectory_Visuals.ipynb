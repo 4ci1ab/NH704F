{
 "cells": [
  {
   "cell_type": "markdown",
   "id": "b8924077-fab0-4927-969d-06f327bbc5d1",
   "metadata": {},
   "source": [
    "### Visualizations"
   ]
  },
  {
   "cell_type": "markdown",
   "id": "acfe7dd5-2da9-4e32-8a4f-6ac267414d60",
   "metadata": {},
   "source": [
    "This is the final workflow to create visuals of a Rydberg atom propegating through space in the presence of an Electric Field. This notebook uses dynamics functions defined in a my_functions python file. \n",
    "\n",
    "FFW | 11/19/2023"
   ]
  },
  {
   "cell_type": "code",
   "execution_count": null,
   "id": "244ab290-2e63-427e-8938-dc5a0811da39",
   "metadata": {
    "tags": []
   },
   "outputs": [],
   "source": [
    "#Upload basic packages\n",
    "import numpy as np\n",
    "import pandas as pd\n",
    "import matplotlib.pyplot as plt\n",
    "from matplotlib import cm\n",
    "import math\n",
    "import os\n",
    "import matplotlib.patches as mpatches\n",
    "from scipy import constants\n",
    "import pickle"
   ]
  },
  {
   "cell_type": "code",
   "execution_count": null,
   "id": "9183b72c-4544-4df7-a506-562f77cb23d3",
   "metadata": {
    "tags": []
   },
   "outputs": [],
   "source": [
    "#Determing server directory\n",
    "current_directory = os.getcwd()\n",
    "#print(current_directory)"
   ]
  },
  {
   "cell_type": "markdown",
   "id": "e34b4058-1ac7-463d-a7ff-af7ce3031ee9",
   "metadata": {},
   "source": [
    "Importing iterative dynamics:"
   ]
  },
  {
   "cell_type": "code",
   "execution_count": null,
   "id": "11838c30-6cb5-4b2f-a601-13b4c1bfe504",
   "metadata": {
    "tags": []
   },
   "outputs": [],
   "source": [
    "from my_functions import perform_iterations_w_energy, perform_iterations_wout_energy"
   ]
  },
  {
   "cell_type": "markdown",
   "id": "8f542267-7027-4c46-9487-793c2eb281d5",
   "metadata": {},
   "source": [
    "#### Single Atom Trajectories:"
   ]
  },
  {
   "cell_type": "code",
   "execution_count": null,
   "id": "d1d6bd06-de0e-4504-b87c-950bb48c915c",
   "metadata": {
    "tags": []
   },
   "outputs": [],
   "source": [
    "#Initial conditions\n",
    "x0 = -0.0001\n",
    "t0 = 0\n",
    "y0 = -0.001  # (m)\n",
    "vx0 = 0  # (m/s)\n",
    "vy0 = 4  # (m/s)\n",
    "\n",
    "delta_t0 = 100e-9 #Initial placeholder value"
   ]
  },
  {
   "cell_type": "code",
   "execution_count": null,
   "id": "b6917382-2b46-402c-9db5-14ce0f0cf9b8",
   "metadata": {
    "tags": []
   },
   "outputs": [],
   "source": [
    "#generate trajectory and energy data\n",
    "sublevels = [284, 300, 314, 320]\n",
    "trajectory = {}\n",
    "for sublevel in sublevels:\n",
    "    initial_conditions = t0, x0, vx0, y0, vy0, sublevel, delta_t0\n",
    "    trajectory[sublevel] = perform_iterations_wout_energy(initial_conditions)"
   ]
  },
  {
   "cell_type": "code",
   "execution_count": null,
   "id": "9aea02fd-fe27-44d9-b4ed-95a452eefecb",
   "metadata": {
    "tags": []
   },
   "outputs": [],
   "source": [
    "# Create a single row of four subplots with adjusted spacing\n",
    "fig, axs = plt.subplots(1, 4, figsize=(8, 4), sharey = True)  # Use sharex to share x-axis ticks\n",
    "\n",
    "# Add the permanent marker\n",
    "Rwire = 15e-6  # Radius of the wire\n",
    "x_center = 0  # X-coordinate of the center of the wire\n",
    "y_center = 0  # Y-coordinate of the center of the wire\n",
    "\n",
    "#Plot ranges\n",
    "xMin, xMax = -0.00024, 0.00014\n",
    "yMin, yMax = -0.00075, 0.0002\n",
    "xTicks = [-0.0002, -0.0001, 0, 0.0001, 0.0002]  # Define your desired tick positions\n",
    "\n",
    "# Plot the wire as a circle\n",
    "for ax in axs:\n",
    "    circle = plt.Circle((x_center, y_center), Rwire, color='grey', fill=True)\n",
    "    ax.add_artist(circle)\n",
    "\n",
    "# Plot the trajectories for each sublevel in a separate subplot\n",
    "for i, sublevel in enumerate(sublevels):\n",
    "    k = sublevel - 315\n",
    "    ax = axs[i]\n",
    "    ax.plot(trajectory[sublevel][0], trajectory[sublevel][1], color='blue', linestyle='dashed', linewidth=1)\n",
    "    ax.set_xlabel('x (m)', fontsize=12)\n",
    "    if i == 0:\n",
    "        ax.set_ylabel('y (m)', fontsize=12)\n",
    "    ax.set_title(f'k: {k}', fontsize=12)\n",
    "    ax.set_xlim(xMin, xMax)\n",
    "    ax.set_ylim(yMin, yMax)\n",
    "    ax.set_aspect('equal')\n",
    "\n",
    "    \n",
    "# Set the x-ticks for the entire row of subplots\n",
    "for i in range(4):\n",
    "    plt.sca(axs[i])\n",
    "    plt.xticks(xTicks, rotation=45)  # Set x ticks for the bottom subplot\n",
    "    \n",
    "\n",
    "plt.tight_layout()\n",
    "plt.show()"
   ]
  },
  {
   "cell_type": "code",
   "execution_count": null,
   "id": "70326868-0bae-4c23-9438-7b20bf2bbe0f",
   "metadata": {
    "tags": []
   },
   "outputs": [],
   "source": [
    "# Create a single row of four subplots with adjusted spacing\n",
    "fig, axs = plt.subplots(1, 4, figsize=(8, 4), sharey=True)  # Use sharex to share x-axis ticks\n",
    "\n",
    "# Add the permanent marker\n",
    "Rwire = 15e-6  # Radius of the wire\n",
    "x_center = 0  # X-coordinate of the center of the wire\n",
    "y_center = 0  # Y-coordinate of the center of the wire\n",
    "\n",
    "# Plot ranges\n",
    "xMin, xMax = -0.00024, 0.00014\n",
    "yMin, yMax = -0.00075, 0.0002\n",
    "xTicks = [-0.0002, -0.0001, 0, 0.0001, 0.0002]  # Define your desired tick positions\n",
    "\n",
    "# Plot the wire as a circle\n",
    "for ax in axs:\n",
    "    circle = plt.Circle((x_center, y_center), Rwire, color='grey', fill=True)\n",
    "    ax.add_artist(circle)\n",
    "\n",
    "# Plot the trajectories for each sublevel in a separate subplot\n",
    "for i, sublevel in enumerate(sublevels):\n",
    "    k = sublevel - 315\n",
    "    ax = axs[i]\n",
    "    ax.plot(trajectory[sublevel][0], trajectory[sublevel][1], color='blue', linestyle='dashed', linewidth=1)\n",
    "    ax.set_xlabel('x (μm)', fontsize=12)\n",
    "    if i == 0:\n",
    "        ax.set_ylabel('y (μm)', fontsize=12)\n",
    "    ax.set_title(f'k: {k}', fontsize=12)\n",
    "    ax.set_xlim(xMin, xMax)\n",
    "    ax.set_ylim(yMin, yMax)\n",
    "    ax.set_aspect('equal')\n",
    "\n",
    "# Convert axis labels to micrometers\n",
    "for ax in axs:\n",
    "    x_ticks = ax.get_xticks() * 1e6\n",
    "    y_ticks = ax.get_yticks() * 1e6\n",
    "    ax.set_xticklabels([f'{tick:.0f}' for tick in x_ticks])\n",
    "    ax.set_yticklabels([f'{tick:.0f}' for tick in y_ticks])\n",
    "\n",
    "# Set the x-ticks for the entire row of subplots\n",
    "for i in range(4):\n",
    "    plt.sca(axs[i])\n",
    "    plt.xticks(xTicks, rotation=45)  # Set x ticks for the bottom subplot\n",
    "\n",
    "plt.tight_layout()\n",
    "plt.show()"
   ]
  },
  {
   "cell_type": "markdown",
   "id": "94beb32b-d68c-4993-b1d7-058da0ce1552",
   "metadata": {},
   "source": [
    "Examining our time step system:"
   ]
  },
  {
   "cell_type": "code",
   "execution_count": null,
   "id": "b4e9fc5f-4cec-40c5-96be-13e0a090e39d",
   "metadata": {
    "tags": []
   },
   "outputs": [],
   "source": [
    "from my_functions import scaled_timestep_conserve_energy, scaled_timestep\n",
    "\n",
    "# Parameters\n",
    "r_max = 0.001\n",
    "distance_values = np.linspace(Rwire, r_max, 1000)  # Adjust the number of points as needed\n",
    "sublevels = list(range(284, 347))\n",
    "colors = plt.cm.viridis(np.linspace(0, 1, len(sublevels)))\n",
    "\n",
    "# Plotting\n",
    "fig, axs = plt.subplots(1, 2, figsize=(8, 4), sharey=True)\n",
    "\n",
    "for sublevel, color in zip(sublevels, colors):\n",
    "    k = sublevel - 315\n",
    "\n",
    "    steps_e = [scaled_timestep_conserve_energy(sublevel, d, r_max) for d in distance_values]\n",
    "    axs[0].plot(distance_values, steps_e, label=f'k={k}', color=color)\n",
    "\n",
    "    steps_no_e = [scaled_timestep(sublevel, d, r_max) for d in distance_values]\n",
    "    axs[1].plot(distance_values, steps_no_e, color=color)\n",
    "\n",
    "axs[0].legend(ncol=3, bbox_to_anchor=(3.22, 1.15), title='k', fontsize = 'small')\n",
    "\n",
    "axs[0].text(0.57, 0.02, 'scaled_timestep_conserve_energy', ha='center', transform=axs[0].transAxes, fontsize=10)\n",
    "axs[1].text(0.78, 0.02, 'scaled_timestep', ha='center', transform=axs[1].transAxes, fontsize=10)\n",
    "\n",
    "axs[0].set_ylabel('Step Size', fontsize = 24)\n",
    "fig.text(0.5, -0.04, 'Distance from Wire (m)', ha='center', fontsize = 24)\n",
    "#plt.suptitle('Step Size vs Distance from Wire for Different k Values')\n",
    "axs[0].set_yscale('log')  # Log scale for better visualization\n",
    "axs[1].set_yscale('log')  # Log scale for better visualization\n",
    "for ax in axs:\n",
    "    ax.tick_params(axis='both', which='major', labelsize=14)\n",
    "plt.show()"
   ]
  },
  {
   "cell_type": "markdown",
   "id": "2e0ad6c2-3085-4a42-8f5d-30be5316875f",
   "metadata": {},
   "source": [
    "#### Looking at conservation of energy:"
   ]
  },
  {
   "cell_type": "code",
   "execution_count": null,
   "id": "348336ca-301b-4099-994d-c59a624b765a",
   "metadata": {
    "tags": []
   },
   "outputs": [],
   "source": [
    "#generate trajectory and energy data\n",
    "sublevels = [284, 294, 304, 314, 324, 346]\n",
    "trajectory = {}\n",
    "for sublevel in sublevels:\n",
    "    initial_conditions = t0, x0, vx0, y0, vy0, sublevel, delta_t0\n",
    "    trajectory[sublevel] = perform_iterations_w_energy(initial_conditions)"
   ]
  },
  {
   "cell_type": "code",
   "execution_count": null,
   "id": "b8125f29-1394-4134-88af-2dd2bd8dcd5f",
   "metadata": {
    "tags": []
   },
   "outputs": [],
   "source": [
    "# Create a plot\n",
    "plt.figure(figsize=(10, 6))\n",
    "\n",
    "plt.ylim(0.99996, 1.000038)\n",
    "y_ticks = [1.00004, 1.00003, 1.00002, 1.00001, 1.0000, 0.99999, 0.99998, 0.99997, 0.99996]  # Specify the desired tick values\n",
    "plt.yticks(y_ticks, y_ticks, fontsize = 12)\n",
    "plt.xticks(fontsize = 12)\n",
    "\n",
    "linestyles = ['--', '-.',':', '--', '-.',':']\n",
    "for s, sublevel in enumerate(sublevels):\n",
    "    k = sublevel - 315\n",
    "    plt.plot(trajectory[sublevel][2]['Time'],  trajectory[sublevel][2]['% of Starting Energy'], label = k, linestyle = linestyles[s])\n",
    "\n",
    "\n",
    "plt.xlabel('Time (s)' , fontsize = 22)\n",
    "plt.ylabel('Energy Ratio', fontsize = 22)\n",
    "#plt.title('Time vs. Energy')\n",
    "plt.legend(title = 'k', fontsize = 14)\n",
    "\n",
    "plt.show()"
   ]
  },
  {
   "cell_type": "markdown",
   "id": "ac33df12-1fd9-4bdc-a640-8e1fc518f453",
   "metadata": {},
   "source": [
    "#### Single sublevel plotting:"
   ]
  },
  {
   "cell_type": "code",
   "execution_count": null,
   "id": "ffdc30bf-2900-436a-a757-ec8fbbbfb83d",
   "metadata": {},
   "outputs": [],
   "source": [
    "sublevel = 284\n",
    "k = sublevel - 315\n",
    "\n",
    "# Define the range for the plot\n",
    "xMin, xMax = -0.00024, 0.00014\n",
    "yMin, yMax = -0.00075, 0.0002\n",
    "PlotRangeHere = [[xMin, xMax], [yMin, yMax]]\n",
    "xTicks = [-0.0002, -0.0001, 0, 0.0001, 0.0002]  # Define your desired tick positions\n",
    "#AspectRatioHere = (PlotRangeHere[1][1] - PlotRangeHere[1][0]) / (PlotRangeHere[0][1] - PlotRangeHere[0][0])\n",
    "\n",
    "# Plot the trajectories\n",
    "plt.figure(figsize=(8, 6))\n",
    "plt.plot(trajectory[sublevel][0], trajectory[sublevel][1], color='blue',  linestyle='dashed', linewidth=1) #marker = 'o', markersize=3,\n",
    "plt.xlabel('x-position (m)', fontsize = 20)\n",
    "plt.ylabel('y-position (m)', fontsize = 20)\n",
    "plt.title('k: ' + str(k), fontsize = 20)\n",
    "plt.xlim(xMin, xMax)\n",
    "plt.ylim(yMin, yMax)\n",
    "plt.gca().set_aspect('equal')\n",
    "plt.xticks(xTicks, rotation=45)  # Rotate the tick labels for better visibility\n",
    "\n",
    "# Add the permanent marker\n",
    "Rwire = 15e-6  # Radius of the wire\n",
    "x_center = 0  # X-coordinate of the center of the wire\n",
    "y_center = 0  # Y-coordinate of the center of the wire\n",
    "\n",
    "# Plot the wire as a circle\n",
    "circle = plt.Circle((x_center, y_center), Rwire, color='grey', fill=True)\n",
    "plt.gca().add_artist(circle)\n",
    "\n",
    "\n",
    "\n",
    "# Set custom tick positions and labels\n",
    "#plt.xticks(xTicksBottom, rotation=45)\n",
    "#plt.grid(True)\n",
    "plt.show()"
   ]
  },
  {
   "cell_type": "markdown",
   "id": "3ea8e0a0-6269-4cbe-8257-000ffaac5573",
   "metadata": {},
   "source": [
    "### Trajectories of Distributions:"
   ]
  },
  {
   "cell_type": "code",
   "execution_count": null,
   "id": "85c7e807-33ce-4a8a-b1cc-bc2e7bca3a89",
   "metadata": {
    "tags": []
   },
   "outputs": [],
   "source": [
    "def generate_normal_initial_conditions(mean_x, std_dev_x, mean_y, std_dev_y, num_atoms):\n",
    "    x0_values = np.random.normal(mean_x, std_dev_x, num_atoms)\n",
    "    t0_values = np.zeros(num_atoms)\n",
    "    y0_values = np.random.normal(mean_y, std_dev_y, num_atoms)\n",
    "    vx0_values = np.zeros(num_atoms)\n",
    "    vy0_values = np.random.uniform(vyMin, vyMax, num_atoms)  # Adjust vy0_range as needed\n",
    "    \n",
    "    return list(zip(t0_values, x0_values, vx0_values, y0_values, vy0_values, [sublevel] * num_atoms, [delta_t0] * num_atoms))"
   ]
  },
  {
   "cell_type": "code",
   "execution_count": null,
   "id": "38256fc4-3419-4239-a566-4de74c1cae51",
   "metadata": {
    "tags": []
   },
   "outputs": [],
   "source": [
    "# Constants\n",
    "yMin, yMax = -0.001, -0.0005  #(m)\n",
    "vyMin, vyMax = 3.7, 4.3   #(m/s)\n",
    "\n",
    "# Generate normally distributed initial conditions\n",
    "num_atoms = 1000\n",
    "mean_x0 = -0.0001\n",
    "std_dev_x0 = 0.00005\n",
    "mean_y0 = -0.001\n",
    "std_dev_y0 = 0.00005\n",
    "\n",
    "sublevel = 300  #Choose sublevel\n",
    "delta_t0 = 100e-9 #Initial placeholder\n",
    "\n",
    "initial_conditions_set = generate_normal_initial_conditions(mean_x0, std_dev_x0, mean_y0, std_dev_y0, num_atoms)"
   ]
  },
  {
   "cell_type": "code",
   "execution_count": null,
   "id": "ae743fa2-fd8f-40e2-adde-cad4f0e27247",
   "metadata": {
    "tags": []
   },
   "outputs": [],
   "source": [
    "#generate trajectory and energy data\n",
    "sublevel = 300\n",
    "k = sublevel-315\n",
    "num_collisions = 0 \n",
    "trajectory = {}\n",
    "for i, intial_condition in enumerate(initial_conditions_set):\n",
    "    initial_conditions = initial_conditions_set[i]\n",
    "    trajectory[i] = perform_iterations_wout_energy(initial_conditions)\n",
    "    num_collisions += trajectory[i][2]\n",
    "    \n",
    "collision_percentage = (num_collisions / num_atoms) * 100"
   ]
  },
  {
   "cell_type": "markdown",
   "id": "f59df09d-aa26-48a2-8381-6587b7013d7e",
   "metadata": {},
   "source": [
    "Examining run time of the above cell:"
   ]
  },
  {
   "cell_type": "code",
   "execution_count": null,
   "id": "8b5749e8-5fbf-4344-88a3-df8146b49384",
   "metadata": {
    "tags": []
   },
   "outputs": [],
   "source": [
    "import time\n",
    "\n",
    "# Your existing code for generating trajectory and energy data\n",
    "\n",
    "sublevel = 300\n",
    "k = sublevel - 315\n",
    "num_collisions = 0 \n",
    "trajectory = {}\n",
    "\n",
    "start_time = time.time()\n",
    "for i, initial_condition in enumerate(initial_conditions_set):\n",
    "    initial_conditions = initial_conditions_set[i]\n",
    "    trajectory[i] = perform_iterations_wout_energy(initial_conditions)\n",
    "    num_collisions += trajectory[i][2]\n",
    "end_time = time.time()\n",
    "\n",
    "elapsed_time = end_time - start_time\n",
    "print(f\"Elapsed time: {elapsed_time} seconds\")\n",
    "\n",
    "collision_percentage = (num_collisions / num_atoms) * 100"
   ]
  },
  {
   "cell_type": "code",
   "execution_count": null,
   "id": "ca830025-adc1-4120-85f3-2bbb61e05c98",
   "metadata": {
    "tags": []
   },
   "outputs": [],
   "source": [
    "# Define the range for the plot\n",
    "plotxMin, plotxMax = -0.00024, 0.00014\n",
    "plotyMin, plotyMax = -0.00075, 0.0002\n",
    "PlotRangeHere = [[plotxMin, plotxMax], [plotyMin, plotyMax]]\n",
    "xTicks = [-0.0002, -0.0001, 0, 0.0001, 0.0002]  # Define your desired tick positions\n",
    "#AspectRatioHere = (PlotRangeHere[1][1] - PlotRangeHere[1][0]) / (PlotRangeHere[0][1] - PlotRangeHere[0][0])\n",
    "\n",
    "# Plot the trajectories\n",
    "plt.figure(figsize=(8, 6))\n",
    "for i, intial_condition in enumerate(initial_conditions_set):\n",
    "    plt.plot(trajectory[i][0], trajectory[i][1], color='blue',  linestyle='dashed', linewidth=1) #marker = 'o', markersize=3,\n",
    "plt.xlabel('x-position (m)', fontsize = 20)\n",
    "plt.ylabel('y-position (m)', fontsize = 20)\n",
    "plt.title('k: ' + str(k), fontsize = 20)\n",
    "plt.xlim(plotxMin, plotxMax)\n",
    "plt.ylim(plotyMin, plotyMax)\n",
    "plt.gca().set_aspect('equal')\n",
    "plt.xticks(xTicks, rotation=45)  # Rotate the tick labels for better visibility\n",
    "plt.text(plotxMin + 0.00001, plotyMax - 0.00005, f'% Collided: {collision_percentage:.1f}%', fontsize=10, color='red')\n",
    "\n",
    "# Add the permanent marker\n",
    "Rwire = 15e-6  # Radius of the wire\n",
    "x_center = 0  # X-coordinate of the center of the wire\n",
    "y_center = 0  # Y-coordinate of the center of the wire\n",
    "\n",
    "# Plot the wire as a circle\n",
    "circle = plt.Circle((x_center, y_center), Rwire, color='grey', fill=True)\n",
    "plt.gca().add_artist(circle)\n",
    "\n",
    "\n",
    "\n",
    "# Set custom tick positions and labels\n",
    "#plt.xticks(xTicksBottom, rotation=45)\n",
    "#plt.grid(True)\n",
    "plt.show()"
   ]
  },
  {
   "cell_type": "markdown",
   "id": "6acb4815-6ef9-4bb5-8839-529041ae17fb",
   "metadata": {},
   "source": [
    "Making a \"Heat Map\""
   ]
  },
  {
   "cell_type": "code",
   "execution_count": null,
   "id": "86d1dfca-58e3-40aa-b520-f893e4f40534",
   "metadata": {
    "tags": []
   },
   "outputs": [],
   "source": [
    "# Extract x and y values from the trajectories\n",
    "all_positions = [[pos[0], pos[1]] for traj in trajectory.values() for pos in zip(traj[0], traj[1])]\n",
    "x_values, y_values = zip(*all_positions)\n",
    "\n",
    "# Define the range for the plot\n",
    "# plotxMin, plotxMax = -0.00024, 0.0002\n",
    "# plotyMin, plotyMax = -0.00075, 0.0001\n",
    "\n",
    "plotxMin, plotxMax = -0.00005, 0.00005\n",
    "plotyMin, plotyMax = -0.00005, 0.00005\n",
    "\n",
    "xTicks = [-0.00005, -0.000025, 0, 0.000025, 0.00005]\n",
    "yTicks = [-0.00005, -0.000025, 0, 0.000025, 0.00005]\n",
    "\n",
    "\n",
    "# Define the range for the heatmap\n",
    "heatmap_range = [[plotxMin, plotxMax], [plotyMin, plotyMax]]\n",
    "\n",
    "# Create a 2D histogram\n",
    "hist, xedges, yedges = np.histogram2d(x_values, y_values, bins=(100, 100), range=heatmap_range)\n",
    "\n",
    "# Plot the trajectories\n",
    "plt.figure(figsize=(6, 6))\n",
    "# for traj in trajectory.values():\n",
    "#     plt.plot(traj[0], traj[1], color='blue', linestyle='dashed', linewidth=1)\n",
    "\n",
    "# Plot the heatmap\n",
    "#plt.imshow(hist.T, extent=[plotxMin, plotxMax, plotyMin, plotyMax], origin='lower', cmap='plasma', aspect='auto', alpha=0.5, vmin=np.min(hist), vmax=np.max(hist))\n",
    "#plt.colorbar(label='Trajectories / $m^2$')\n",
    "\n",
    "heatmap = plt.imshow(hist.T, extent=[plotxMin, plotxMax, plotyMin, plotyMax], origin='lower', cmap='plasma', aspect='auto', vmin=np.min(hist), vmax=np.max(hist))\n",
    "cbar = plt.colorbar(heatmap, label='Trajectories / $m^2$')\n",
    "cbar.ax.tick_params(labelsize=11)\n",
    "cbar.set_label('Trajectories / $m^2$', fontsize=20)\n",
    "\n",
    "# Set other plot properties\n",
    "plt.xlabel('x (μm)', fontsize=20)\n",
    "plt.ylabel('y (μm)', fontsize=20)\n",
    "plt.title('k: ' + str(k), fontsize=20)\n",
    "plt.xlim(plotxMin, plotxMax)\n",
    "plt.ylim(plotyMin, plotyMax)\n",
    "plt.gca().set_aspect('equal')\n",
    "plt.xticks(xTicks, xTicks, rotation=45)\n",
    "plt.yticks(yTicks, yTicks)\n",
    "plt.text(plotxMin + 0.00001, plotyMax - 0.00001, f'% Collided: {collision_percentage:.1f}%', fontsize=10, color='white')\n",
    "\n",
    "# Add the permanent marker\n",
    "Rwire = 15e-6  # Radius of the wire\n",
    "x_center = 0  # X-coordinate of the center of the wire\n",
    "y_center = 0  # Y-coordinate of the center of the wire\n",
    "\n",
    "# Plot the wire as a circle\n",
    "circle = plt.Circle((x_center, y_center), Rwire, color='grey', fill=True)\n",
    "plt.gca().add_artist(circle)\n",
    "\n",
    "x_ticks1 = plt.gca().get_xticks() * 1e6\n",
    "y_ticks1 = plt.gca().get_yticks() * 1e6\n",
    "plt.xticks(xTicks, [f'{tick:.0f}' for tick in x_ticks1])\n",
    "plt.yticks(yTicks, [f'{tick:.0f}' for tick in y_ticks1])\n",
    "\n",
    "plt.show()"
   ]
  },
  {
   "cell_type": "markdown",
   "id": "aa7e940b-e11a-41a9-a899-49b9aa115b53",
   "metadata": {},
   "source": [
    "### Starting Dynamic Visuals:"
   ]
  },
  {
   "cell_type": "code",
   "execution_count": null,
   "id": "dde79e26-f3f7-44c1-a7ba-1bd744aa79de",
   "metadata": {
    "tags": []
   },
   "outputs": [],
   "source": [
    "import matplotlib.pyplot as plt\n",
    "from matplotlib.animation import FuncAnimation\n",
    "\n",
    "# Define the range for the plot\n",
    "xMin, xMax = -0.00024, 0.00014\n",
    "yMin, yMax = -0.00075, 0.0002\n",
    "PlotRangeHere = [[xMin, xMax], [yMin, yMax]]\n",
    "xTicks = [-0.0002, -0.0001, 0, 0.0001, 0.0002]\n",
    "\n",
    "# Create a figure\n",
    "fig, ax = plt.subplots(figsize=(8, 6))\n",
    "\n",
    "# Add the permanent marker\n",
    "Rwire = 15e-6\n",
    "x_center = 0\n",
    "y_center = 0\n",
    "circle = plt.Circle((x_center, y_center), Rwire, color='grey', fill=True)\n",
    "ax.add_artist(circle)\n",
    "\n",
    "# Define the circle representing the particle\n",
    "particle_circle = plt.Circle((trajectory[0][0], trajectory[1][0]), radius=5e-6, color='blue')\n",
    "ax.add_artist(particle_circle)\n",
    "\n",
    "# Set axis properties\n",
    "ax.set_xlim(xMin, xMax)\n",
    "ax.set_ylim(yMin, yMax)\n",
    "ax.set_xlabel('x-position (m)', fontsize=20)\n",
    "ax.set_ylabel('y-position (m)', fontsize=20)\n",
    "ax.set_title('Sublevel:' + str(initial_conditions[5]), fontsize=20)\n",
    "ax.set_aspect('equal')\n",
    "ax.xaxis.set_ticks(xTicks)\n",
    "ax.xaxis.set_tick_params(rotation=45)\n",
    "\n",
    "# Define the initialization function\n",
    "def init():\n",
    "    particle_circle.set_center((trajectory[0][0], trajectory[1][0]))\n",
    "    return particle_circle,\n",
    "\n",
    "# Define the update function for each frame of the animation\n",
    "def update(frame):\n",
    "    particle_circle.set_center((trajectory[0][frame], trajectory[1][frame]))\n",
    "    return particle_circle,\n",
    "\n",
    "# Calculate the number of frames in the animation\n",
    "num_frames = len(trajectory[0])\n",
    "\n",
    "# Create the animation\n",
    "ani = FuncAnimation(fig, update, frames=num_frames, init_func=init, blit=True)\n",
    "\n",
    "# Display the animation\n",
    "plt.show()"
   ]
  },
  {
   "cell_type": "code",
   "execution_count": null,
   "id": "0c52a387-dbb2-4082-b3e4-5d2dd922a40f",
   "metadata": {
    "tags": []
   },
   "outputs": [],
   "source": [
    "import matplotlib.pyplot as plt\n",
    "from matplotlib.animation import FuncAnimation\n",
    "\n",
    "# Define the range for the plot\n",
    "xMin, xMax = -0.00024, 0.00014\n",
    "yMin, yMax = -0.00075, 0.0002\n",
    "PlotRangeHere = [[xMin, xMax], [yMin, yMax]]\n",
    "xTicks = [-0.0002, -0.0001, 0, 0.0001, 0.0002]\n",
    "\n",
    "# Create a figure\n",
    "fig, ax = plt.subplots(figsize=(8, 6))\n",
    "\n",
    "# Add the permanent marker\n",
    "Rwire = 15e-6\n",
    "x_center = 0\n",
    "y_center = 0\n",
    "circle = plt.Circle((x_center, y_center), Rwire, color='grey', fill=True)\n",
    "ax.add_artist(circle)\n",
    "\n",
    "# Define the circle representing the particle\n",
    "particle_circle = plt.Circle((0, 0), radius=5e-6, color='blue')\n",
    "ax.add_artist(particle_circle)\n",
    "\n",
    "# Set axis properties\n",
    "ax.set_xlim(xMin, xMax)\n",
    "ax.set_ylim(yMin, yMax)\n",
    "ax.set_xlabel('x-position (m)', fontsize=20)\n",
    "ax.set_ylabel('y-position (m)', fontsize=20)\n",
    "ax.set_title('Sublevel:' + str(initial_conditions[5]), fontsize=20)\n",
    "ax.set_aspect('equal')\n",
    "ax.xaxis.set_ticks(xTicks)\n",
    "ax.xaxis.set_tick_params(rotation=45)\n",
    "\n",
    "# Define the initialization function\n",
    "def init():\n",
    "    particle_circle.set_center((trajectory[0][0], trajectory[1][0]))\n",
    "    return particle_circle,\n",
    "\n",
    "# Define the update function for each frame of the animation\n",
    "def update(frame):\n",
    "    particle_circle.set_center((trajectory[0][frame], trajectory[1][frame]))\n",
    "    return particle_circle,\n",
    "\n",
    "# Calculate the number of frames in the animation\n",
    "num_frames = len(trajectory[0])\n",
    "\n",
    "# Create the animation\n",
    "ani = FuncAnimation(fig, update, frames=num_frames, init_func=init, blit=True)\n",
    "\n",
    "# Display the animation\n",
    "plt.show()\n"
   ]
  },
  {
   "cell_type": "code",
   "execution_count": null,
   "id": "1f2e50dd-0295-4bfa-8c6a-0356c64a8a94",
   "metadata": {},
   "outputs": [],
   "source": []
  }
 ],
 "metadata": {
  "kernelspec": {
   "display_name": "Python 3 (ipykernel)",
   "language": "python",
   "name": "python3"
  },
  "language_info": {
   "codemirror_mode": {
    "name": "ipython",
    "version": 3
   },
   "file_extension": ".py",
   "mimetype": "text/x-python",
   "name": "python",
   "nbconvert_exporter": "python",
   "pygments_lexer": "ipython3",
   "version": "3.11.3"
  }
 },
 "nbformat": 4,
 "nbformat_minor": 5
}
