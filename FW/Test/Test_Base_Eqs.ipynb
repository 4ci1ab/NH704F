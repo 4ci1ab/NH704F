{
 "cells": [
  {
   "cell_type": "markdown",
   "id": "2036a08f-8577-454e-8c2a-39d9a60c1235",
   "metadata": {},
   "source": [
    "This notebook represents a first attempt at recreating the acceleration vector field used to propegate an atom through an Electric Field. The below code is based upon Mathematica code created by Anne Goodsell.\n",
    "\n",
    "FFW | 10/16/2023"
   ]
  },
  {
   "cell_type": "code",
   "execution_count": null,
   "id": "8e293ccd-6f0c-4e21-a414-61ab297cb1de",
   "metadata": {
    "tags": []
   },
   "outputs": [],
   "source": [
    "#Upload basic packages\n",
    "import numpy as np\n",
    "import pandas as pd\n",
    "import matplotlib.pyplot as plt\n",
    "from matplotlib import cm\n",
    "import math\n",
    "import os\n",
    "from scipy import constants"
   ]
  },
  {
   "cell_type": "markdown",
   "id": "98a5ac9e-f35f-4ef0-9af5-4ed14b55cab4",
   "metadata": {},
   "source": [
    "#### Loading in Stark Effect Data:"
   ]
  },
  {
   "cell_type": "code",
   "execution_count": null,
   "id": "7d1898eb-f211-4623-a94d-e1f046f8aba5",
   "metadata": {
    "tags": []
   },
   "outputs": [],
   "source": [
    "#Determing server directory\n",
    "current_directory = os.getcwd()\n",
    "#print(current_directory)"
   ]
  },
  {
   "cell_type": "code",
   "execution_count": null,
   "id": "a642ef55-648d-483c-8c2b-6d80bbc79371",
   "metadata": {
    "tags": []
   },
   "outputs": [],
   "source": [
    "#Loading in our test CSV\n",
    "fpath0 = current_directory\n",
    "file = '/Constant_U.csv'\n",
    "\n",
    "# Indicate sublevel just for consistency in other cells\n",
    "sublevels = ['TEST']\n",
    "\n",
    "starkmap_Vcm = {}\n",
    "starkmap_Vm = {}\n",
    "\n",
    "for sublevel in sublevels:\n",
    "    filename = fpath0 + file\n",
    "    starkmap_Vcm[sublevel] = pd.read_csv(filename, index_col=None, header=None, skiprows = 1)\n",
    "    starkmap_Vm[sublevel] = starkmap_Vcm[sublevel].copy()            #Copy the df\n",
    "    #starkmap_Vm[sublevel][0] *= 1e2                                  #Convert cm to m\n",
    "    starkmap_Vm[sublevel][1] *= (constants.h*constants.c)   #Convert energy from wavenumber to joules\n",
    "    starkmap_Vm[sublevel].columns = [ r'E Field $(V/m)$', 'U $(J)$']    #Label corrected units"
   ]
  },
  {
   "cell_type": "code",
   "execution_count": null,
   "id": "52e8e58d-dc80-46bf-b9c9-d8c463536aa9",
   "metadata": {
    "tags": []
   },
   "outputs": [],
   "source": [
    "starkmap_Vm['TEST']"
   ]
  },
  {
   "cell_type": "markdown",
   "id": "4a2dc7b4-b5eb-4789-9e93-4474f504275f",
   "metadata": {},
   "source": [
    "#### Initializing the wire and field"
   ]
  },
  {
   "cell_type": "code",
   "execution_count": null,
   "id": "fbbd2a98-0fdf-4836-b0ce-549c57f26572",
   "metadata": {
    "tags": []
   },
   "outputs": [],
   "source": [
    "#Defining E(r) and r(E)\n",
    "def Efield(r):\n",
    "    \"\"\"\n",
    "    Calculate electric field strength at a given radial distance from a wire.\n",
    "    \n",
    "    Args:\n",
    "        r (float): The radial distance from the wire in meters.\n",
    "        \n",
    "    Returns:\n",
    "        float: The electric field strength in volts per meter (V/m) at the specified distance. \"\"\"\n",
    "    \n",
    "    E = (1 / r) * VHere / (math.log(R0 / Rwire))  # Volts per meter\n",
    "    \n",
    "    return E"
   ]
  },
  {
   "cell_type": "code",
   "execution_count": null,
   "id": "0b3077a3-14ab-4d67-88b8-e893dda26e68",
   "metadata": {
    "tags": []
   },
   "outputs": [],
   "source": [
    "def r(Efield):\n",
    "    \"\"\"\n",
    "    Calculate the radial distance from a wire corresponding to a given electric field strength.\n",
    "    \n",
    "    Args:\n",
    "        Efield (float): The electric field strength in volts per meter (V/m).\n",
    "        \n",
    "    Returns:\n",
    "        float: The radial distance from the wire in meters that corresponds to the \n",
    "        specified electric field strength. \"\"\"\n",
    "    \n",
    "    r = (1 / Efield) * VHere / (math.log(R0 / Rwire))\n",
    "    \n",
    "    return r"
   ]
  },
  {
   "cell_type": "code",
   "execution_count": null,
   "id": "1d7a7394-dec0-4b54-a3d5-e46883cf6e6d",
   "metadata": {
    "tags": []
   },
   "outputs": [],
   "source": [
    "#Defining some constants\n",
    "\n",
    "R0 = 0.15  # R0 = 0.15 m = 15 cm (not super important; imaginary radius at which electric potential is zero)\n",
    "Rwire = 15e-6  # Radius of the wire = 15 microns (15*10^-6 meters)\n",
    "VHere = 10  # You can uncomment this line if needed"
   ]
  },
  {
   "cell_type": "code",
   "execution_count": null,
   "id": "5ba9ad24-5726-46a4-aed1-f9aa57895818",
   "metadata": {
    "tags": []
   },
   "outputs": [],
   "source": [
    "zStart = -10**3 * Rwire\n",
    "zEnd = -Rwire\n",
    "\n",
    "r_values = np.linspace(0.15 * zStart, zEnd, 100)  # Create an array of z values for the plot\n",
    "field_values = [Efield(r) for r in r_values]  # Calculate electric field values\n",
    "\n",
    "plt.figure(figsize=(5, 3))\n",
    "plt.plot(r_values, field_values)\n",
    "plt.ylim(0, 0.5 * Efield(zEnd))\n",
    "plt.xlabel(\"Position in relation to the Wire(m)\")\n",
    "plt.ylabel(\"Electric Field (V/m)\")\n",
    "#plt.title(\"Electric Field vs. Radial Distance\")\n",
    "plt.grid(True)\n",
    "plt.show()"
   ]
  },
  {
   "cell_type": "markdown",
   "id": "f1892234-f8b2-4d71-b91c-d2a4355fd31e",
   "metadata": {},
   "source": [
    "$\\textbf{Note:}$ The negative \"Radial Distance\" and negative \"Electric Field\" on the plot represent the geometry of the atoms in relation to the wire. The atoms are below the wire, so if the wire is the origin, the displacement is negative (hence negative values for radial distance). The electric field is pointing outward in the $\\hat{r}$-direction, but we can treat this as the $\\hat{y}$-direction in relation to the upward-moving atoms. "
   ]
  },
  {
   "cell_type": "markdown",
   "id": "44754d62-bc91-4300-8f72-6e1f65ca0969",
   "metadata": {},
   "source": [
    "#### Calculating Acceleration Vector Field"
   ]
  },
  {
   "cell_type": "code",
   "execution_count": null,
   "id": "386c89b4-8bc2-4441-8be1-ae78d36ad2eb",
   "metadata": {
    "tags": []
   },
   "outputs": [],
   "source": [
    "# Relating distance and energy for a given field strength\n",
    "\n",
    "r_of_E = {}\n",
    "starkmap_r = {}\n",
    "\n",
    "for sublevel in sublevels:\n",
    "    starkmap_r[sublevel] = starkmap_Vm[sublevel].copy()  #Create new df\n",
    "    # Calculate and add column with the radial distance\n",
    "    starkmap_r[sublevel]['Radial Distance (m)'] = r(starkmap_Vm[sublevel]['E Field $(V/m)$'])  "
   ]
  },
  {
   "cell_type": "code",
   "execution_count": null,
   "id": "b42fc15c-ff85-4e64-9448-dad76e3a34e8",
   "metadata": {
    "tags": []
   },
   "outputs": [],
   "source": [
    "starkmap_r['TEST']"
   ]
  },
  {
   "cell_type": "code",
   "execution_count": null,
   "id": "403339fd-cc1f-421b-9248-bdbd968565af",
   "metadata": {
    "tags": []
   },
   "outputs": [],
   "source": [
    "# Creating interpolated function\n",
    "from scipy.interpolate import interp1d\n",
    "\n",
    "energy_interpolation = {}\n",
    "for sublevel in sublevels:\n",
    "    energy_interpolation[sublevel] = interp1d(starkmap_r[sublevel]['Radial Distance (m)'], starkmap_r[sublevel]['U $(J)$'], kind = 'cubic')"
   ]
  },
  {
   "cell_type": "code",
   "execution_count": null,
   "id": "4c395f93-8480-4447-80a0-572736b7a70e",
   "metadata": {
    "tags": []
   },
   "outputs": [],
   "source": [
    "#Saving U(r)\n",
    "import pickle\n",
    "\n",
    "# Define the directory to save the pickle files\n",
    "output_dir = '/home/anaconda3/Wimberly_PHYS704_F23/U(r)/'\n",
    "\n",
    "for sublevel in sublevels:\n",
    "    \n",
    "    # Define the full path of the output file\n",
    "    fname = f\"U(r)_{sublevel}.pkl\"\n",
    "    output_path = os.path.join(output_dir, fname)\n",
    "\n",
    "    # Save the interpolation as a pickle file\n",
    "    with open(output_path, 'wb') as file:\n",
    "        pickle.dump(energy_interpolation[sublevel], file)"
   ]
  },
  {
   "cell_type": "code",
   "execution_count": null,
   "id": "69bbcf21-2a65-4773-9bc8-429ed6cc23d3",
   "metadata": {
    "tags": []
   },
   "outputs": [],
   "source": [
    "plt.figure(figsize=(10, 6))\n",
    "for sublevel in sublevels[25:30]:\n",
    "    plt.plot(starkmap_r[sublevel]['Radial Distance (m)'][3500::], starkmap_r[sublevel]['U $(J)$'][3500::], 'o', label='Original Data')  # Plot the original data points as dots\n",
    "    plt.plot(starkmap_r[sublevel]['Radial Distance (m)'][3500::], energy_interpolation[sublevel](starkmap_r[sublevel]['Radial Distance (m)'][3500::]), '-', label='Interpolated Energy')  # Plot the interpolated values as a line\n",
    "plt.xlabel('Radial Distance (m)')\n",
    "plt.ylabel('U (J)')\n",
    "#plt.legend()\n",
    "plt.grid(True)\n",
    "#plt.title('Energy vs. Radial Distance')\n",
    "plt.show()"
   ]
  },
  {
   "cell_type": "markdown",
   "id": "2ecc92cf-88a6-4a5e-a2b2-6a4cac95fd00",
   "metadata": {},
   "source": [
    "Here I am selecting the last 500 points from 5 sublevels to have a \"zoomed in\" look at our interpolation functions. Can plot entire dataset by removing [3500::], however, the peculiarities of the Stark effect are less visible. Can also plot all sublevels by removing [25:30] from the for loop."
   ]
  },
  {
   "cell_type": "code",
   "execution_count": null,
   "id": "52cd6fcf-021f-4dd6-b16e-e3274f4a7b65",
   "metadata": {
    "tags": []
   },
   "outputs": [],
   "source": [
    "#Attemping to use BSpline as it has built in derivative function\n",
    "from scipy.interpolate import BSpline\n",
    "\n",
    "sorted_starkmap_r = {}\n",
    "energy_interpolation = {}\n",
    "for sublevel in sublevels:\n",
    "    sorted_starkmap_r[sublevel] = starkmap_r[sublevel].sort_values(by='Radial Distance (m)')\n",
    "    energy_interpolation[sublevel] = BSpline(sorted_starkmap_r[sublevel]['Radial Distance (m)'], sorted_starkmap_r[sublevel]['U $(J)$'], k = 1)\n",
    "    \n",
    "#K = 1 turns out to produce the best fit"
   ]
  },
  {
   "cell_type": "code",
   "execution_count": null,
   "id": "bb47f45a-46e4-4207-af86-3dbba8bf0276",
   "metadata": {
    "tags": []
   },
   "outputs": [],
   "source": [
    "plt.figure(figsize=(5, 3))\n",
    "for sublevel in sublevels[25:30]:\n",
    "    plt.plot(sorted_starkmap_r[sublevel]['Radial Distance (m)'], sorted_starkmap_r[sublevel]['U $(J)$'], 'o', label='Original Data')  # Plot the original data points as dots\n",
    "    plt.plot(sorted_starkmap_r[sublevel]['Radial Distance (m)'], energy_interpolation[sublevel](sorted_starkmap_r[sublevel]['Radial Distance (m)']), '-', label='Interpolated Energy')  # Plot the interpolated values as a line\n",
    "plt.xlabel('Radial Distance (m)')\n",
    "plt.ylabel('U (J)')\n",
    "#plt.legend()\n",
    "plt.grid(True)\n",
    "#plt.title('Energy vs. Radial Distance')\n",
    "plt.show()"
   ]
  },
  {
   "cell_type": "markdown",
   "id": "6c2a74b0-09fe-4bf6-911e-1202aadb1e30",
   "metadata": {},
   "source": [
    "It looks like this is working let's take a look at some slices to double check:"
   ]
  },
  {
   "cell_type": "code",
   "execution_count": null,
   "id": "59baa0ea-59a6-425a-80b2-f254e6cf6dea",
   "metadata": {
    "tags": []
   },
   "outputs": [],
   "source": [
    "# Define the data subsets\n",
    "dataslices = [\n",
    "    (slice(0, 500), \"First 500 Points\"),\n",
    "    (slice(500, 1000), \"Points 500 to 1000\"),\n",
    "    (slice(1000, 1500), \"Points 1000 to 1500\"),\n",
    "    (slice(1500, 2000), \"Points 1500 to 2000\"),\n",
    "    (slice(2000, 2500), \"Points 2000 to 2500\"),\n",
    "    (slice(2500, 3000), \"Points 2500 to 3000\"),\n",
    "    (slice(3000, 3500), \"Points 3000 to 3500\"),\n",
    "    (slice(3500, 4000), \"Points 3500 to 4000\"),\n",
    "    ]\n",
    "\n",
    "# Create subplots for each subset\n",
    "fig, axes = plt.subplots(4, 2, figsize=(12, 16))\n",
    "fig.suptitle(\"Interpolation Plots\")\n",
    "\n",
    "for i, (dataslice, title) in enumerate(dataslices):\n",
    "    row, col = i // 2, i % 2\n",
    "    ax = axes[row, col]\n",
    "    ax.set_title(title)\n",
    "    for sublevel in sublevels[0:10]:\n",
    "        ax.plot(\n",
    "            starkmap_r[sublevel]['Radial Distance (m)'][dataslice],\n",
    "            starkmap_r[sublevel]['U $(J)$'][dataslice],\n",
    "            'o',\n",
    "            label='Original Data'\n",
    "        )\n",
    "        ax.plot(\n",
    "            starkmap_r[sublevel]['Radial Distance (m)'][dataslice],\n",
    "            energy_interpolation[sublevel](starkmap_r[sublevel]['Radial Distance (m)'][dataslice]),\n",
    "            '-',\n",
    "            label='Interpolated Energy'\n",
    "        )\n",
    "    ax.set_xlabel('Radial Distance (m)')\n",
    "    ax.set_ylabel('U (J)')\n",
    "    ax.grid(True)\n",
    "    #ax.legend()\n",
    "\n",
    "# Adjust spacing between subplots\n",
    "plt.tight_layout()\n",
    "plt.subplots_adjust(top=0.94)\n",
    "plt.show()"
   ]
  },
  {
   "cell_type": "markdown",
   "id": "98508704-b51f-485a-aa79-ca56d7726276",
   "metadata": {},
   "source": [
    "I think this looks okay... will definitely talk to professor Goodsell. The fit appears to diverge (slightly) further away from the wire while it seems to fit quite well closer. Typically this would feel good however, our particles start further away from the wire. How far? "
   ]
  },
  {
   "cell_type": "code",
   "execution_count": null,
   "id": "717941e8-3de3-46c2-8d04-275abc8b5c9d",
   "metadata": {
    "tags": []
   },
   "outputs": [],
   "source": [
    "#Solving for grad_U with built in derivative function\n",
    "\n",
    "grad_U = {}\n",
    "for sublevel in sublevels: \n",
    "    grad_U[sublevel] = energy_interpolation[sublevel].derivative()"
   ]
  },
  {
   "cell_type": "markdown",
   "id": "6ef9dbf6-ea8b-4c79-965a-46f18addb920",
   "metadata": {},
   "source": [
    "#### Outputing $\\nabla U$ files:"
   ]
  },
  {
   "cell_type": "code",
   "execution_count": null,
   "id": "bbe643e8-0b87-4fef-bccd-89c6d2735263",
   "metadata": {
    "tags": []
   },
   "outputs": [],
   "source": [
    "#Saving grad U(r)\n",
    "import pickle\n",
    "\n",
    "# Define the directory to save the pickle files\n",
    "output_dir = '/home/anaconda3/Wimberly_PHYS704_F23/grad_U/'\n",
    "\n",
    "for sublevel in sublevels:\n",
    "    \n",
    "    # Define the full path of the output file\n",
    "    fname = f\"grad_U_{sublevel}.pkl\"\n",
    "    output_path = os.path.join(output_dir, fname)\n",
    "\n",
    "    # Save the interpolation as a pickle file\n",
    "    with open(output_path, 'wb') as file:\n",
    "        pickle.dump(grad_U[sublevel], file)"
   ]
  },
  {
   "cell_type": "code",
   "execution_count": null,
   "id": "c63ba48b-ce1c-469b-9f8f-b491e599e669",
   "metadata": {
    "tags": []
   },
   "outputs": [],
   "source": [
    "# #We can't operate on an interpolation so we evaluate it at points to find force\n",
    "\n",
    "# Force = {}\n",
    "# for sublevel in sublevels: \n",
    "#     Force[sublevel] = -1 * grad_U[sublevel](starkmap_r[sublevel]['Radial Distance (m)'])"
   ]
  },
  {
   "cell_type": "code",
   "execution_count": null,
   "id": "8d7dfcd2-363a-47de-81b1-3c647bc896db",
   "metadata": {
    "tags": []
   },
   "outputs": [],
   "source": [
    "# #Finally we calculate acceleration values\n",
    "# mRb = (85*10^-3)/(602*10^21)\n",
    "\n",
    "# acceleration = {}\n",
    "# for sublevel in sublevels:\n",
    "#     acceleration[sublevel] = Force[sublevel]/mRb"
   ]
  },
  {
   "cell_type": "code",
   "execution_count": null,
   "id": "e7832cd3-d880-435a-a6fe-10e5ba011b95",
   "metadata": {
    "tags": []
   },
   "outputs": [],
   "source": [
    "# acceleration_map = {}\n",
    "\n",
    "# for sublevel in sublevels:\n",
    "#     acceleration_map[sublevel] = starkmap_r[sublevel].copy()\n",
    "\n",
    "#     # Drop the columns 'E Field $(V/m)$' and 'Energy $(J)$'\n",
    "#     columns_to_drop = ['E Field $(V/m)$', 'U $(J)$']\n",
    "#     acceleration_map[sublevel] = acceleration_map[sublevel].drop(columns=columns_to_drop)\n",
    "\n",
    "#     # Replace the dropped columns with 'Force' and 'Acceleration' values\n",
    "#     acceleration_map[sublevel]['Force $N$'] = Force[sublevel]  # Replace 'force_values' with your actual force values\n",
    "#     acceleration_map[sublevel]['Acceleration $m/s$'] = acceleration[sublevel]  # Replace 'acceleration_values' with your actual acceleration values"
   ]
  },
  {
   "cell_type": "code",
   "execution_count": null,
   "id": "c0cd2138-9214-45f0-9cba-37af4c8bd493",
   "metadata": {},
   "outputs": [],
   "source": [
    "# acceleration_map['TEST']"
   ]
  },
  {
   "cell_type": "code",
   "execution_count": null,
   "id": "ca4c2759-f5ad-4d93-9078-c316083e2f6c",
   "metadata": {},
   "outputs": [],
   "source": [
    "# #Saving our \"acceleration map\"\n",
    "\n",
    "# # Define the directory to save the CSV files\n",
    "# output_dir = current_directory + '/Acceleration Maps/'\n",
    "\n",
    "# for sublevel in sublevels:\n",
    "    \n",
    "#     #Define the file name\n",
    "#     fname = f\"Accleration_Map_{sublevel}.csv\"\n",
    "\n",
    "#     # Define the full path of the output file\n",
    "#     output_path = os.path.join(output_dir, fname)\n",
    "\n",
    "#     # Save the DataFrame as CSV\n",
    "#     acceleration_map[sublevel].to_csv(output_path, header=True, index=True)"
   ]
  },
  {
   "cell_type": "code",
   "execution_count": null,
   "id": "3a8f2f18-fac4-4418-847d-684caa547bd8",
   "metadata": {},
   "outputs": [],
   "source": []
  }
 ],
 "metadata": {
  "kernelspec": {
   "display_name": "Python 3 (ipykernel)",
   "language": "python",
   "name": "python3"
  },
  "language_info": {
   "codemirror_mode": {
    "name": "ipython",
    "version": 3
   },
   "file_extension": ".py",
   "mimetype": "text/x-python",
   "name": "python",
   "nbconvert_exporter": "python",
   "pygments_lexer": "ipython3",
   "version": "3.11.3"
  }
 },
 "nbformat": 4,
 "nbformat_minor": 5
}
