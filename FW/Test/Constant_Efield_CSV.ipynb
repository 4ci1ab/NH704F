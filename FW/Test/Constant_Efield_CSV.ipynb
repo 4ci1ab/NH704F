{
 "cells": [
  {
   "cell_type": "markdown",
   "id": "8297b28d-b5bd-4f5f-af6c-715f20400182",
   "metadata": {},
   "source": [
    "Notebook creating a CSV file where a constant potential is given for a range of positions. This file will be used to double check the workflow which derives acceleration from $\\nabla U$"
   ]
  },
  {
   "cell_type": "code",
   "execution_count": 29,
   "id": "dbb31c4c-a59b-41a4-920b-c04bc32ea14c",
   "metadata": {
    "tags": []
   },
   "outputs": [],
   "source": [
    "import pandas as pd\n",
    "import os\n",
    "from scipy import constants"
   ]
  },
  {
   "cell_type": "code",
   "execution_count": 30,
   "id": "f03d59cb-ff2c-4f19-a369-caa2d2a8dbb3",
   "metadata": {
    "tags": []
   },
   "outputs": [],
   "source": [
    "#Determing server directory\n",
    "current_directory = os.getcwd()\n",
    "#print(current_directory)"
   ]
  },
  {
   "cell_type": "code",
   "execution_count": 31,
   "id": "c9120458-79a5-4a64-b5cf-ad9c68449932",
   "metadata": {
    "tags": []
   },
   "outputs": [],
   "source": [
    "#Initialize path to main Stark effect Folder\n",
    "fpath0 = '/home/anaconda3/Wimberly_PHYS704_F23/Stark Map CSV files/'\n",
    "file = 'StarkMapPlotList_FieldVcm_Energy_n35_{}.csv'\n",
    "\n",
    "# Pick one sublevel\n",
    "sublevel = 284"
   ]
  },
  {
   "cell_type": "code",
   "execution_count": 32,
   "id": "12e98f75-16e1-4c20-ad01-f1f2887e4df2",
   "metadata": {
    "tags": []
   },
   "outputs": [],
   "source": [
    "#Load in single CSV\n",
    "\n",
    "filename = (fpath0 + file).format(sublevel)\n",
    "starkmap_Vcm = pd.read_csv(filename, index_col=None, header=None, skiprows = 1)\n",
    "starkmap_Vm = starkmap_Vcm.copy()            #Copy the df\n",
    "starkmap_Vm[0] *= 1e2                                  #Convert cm to m\n",
    "starkmap_Vm[1] *= (constants.h*constants.c)   #Convert energy from wavenumber to joules\n",
    "starkmap_Vm.columns = [ r'E Field $(V/m)$', 'U $(J)$']    #Label corrected units"
   ]
  },
  {
   "cell_type": "code",
   "execution_count": 33,
   "id": "891b0326-416d-4717-a1f1-0de7000753c3",
   "metadata": {
    "tags": []
   },
   "outputs": [],
   "source": [
    "temp_df = starkmap_Vm.copy()\n",
    "temp_df['U $(J)$'] = temp_df['U $(J)$'][0]\n",
    "constant_U = temp_df"
   ]
  },
  {
   "cell_type": "code",
   "execution_count": 34,
   "id": "a037de98-30d0-4129-b89b-35bd4fab5c23",
   "metadata": {
    "tags": []
   },
   "outputs": [
    {
     "data": {
      "text/html": [
       "<div>\n",
       "<style scoped>\n",
       "    .dataframe tbody tr th:only-of-type {\n",
       "        vertical-align: middle;\n",
       "    }\n",
       "\n",
       "    .dataframe tbody tr th {\n",
       "        vertical-align: top;\n",
       "    }\n",
       "\n",
       "    .dataframe thead th {\n",
       "        text-align: right;\n",
       "    }\n",
       "</style>\n",
       "<table border=\"1\" class=\"dataframe\">\n",
       "  <thead>\n",
       "    <tr style=\"text-align: right;\">\n",
       "      <th></th>\n",
       "      <th>E Field $(V/m)$</th>\n",
       "      <th>U $(J)$</th>\n",
       "    </tr>\n",
       "  </thead>\n",
       "  <tbody>\n",
       "    <tr>\n",
       "      <th>0</th>\n",
       "      <td>10.0</td>\n",
       "      <td>-1.781166e-23</td>\n",
       "    </tr>\n",
       "    <tr>\n",
       "      <th>1</th>\n",
       "      <td>20.0</td>\n",
       "      <td>-1.781166e-23</td>\n",
       "    </tr>\n",
       "    <tr>\n",
       "      <th>2</th>\n",
       "      <td>30.0</td>\n",
       "      <td>-1.781166e-23</td>\n",
       "    </tr>\n",
       "    <tr>\n",
       "      <th>3</th>\n",
       "      <td>40.0</td>\n",
       "      <td>-1.781166e-23</td>\n",
       "    </tr>\n",
       "    <tr>\n",
       "      <th>4</th>\n",
       "      <td>50.0</td>\n",
       "      <td>-1.781166e-23</td>\n",
       "    </tr>\n",
       "    <tr>\n",
       "      <th>...</th>\n",
       "      <td>...</td>\n",
       "      <td>...</td>\n",
       "    </tr>\n",
       "    <tr>\n",
       "      <th>3995</th>\n",
       "      <td>39960.0</td>\n",
       "      <td>-1.781166e-23</td>\n",
       "    </tr>\n",
       "    <tr>\n",
       "      <th>3996</th>\n",
       "      <td>39970.0</td>\n",
       "      <td>-1.781166e-23</td>\n",
       "    </tr>\n",
       "    <tr>\n",
       "      <th>3997</th>\n",
       "      <td>39980.0</td>\n",
       "      <td>-1.781166e-23</td>\n",
       "    </tr>\n",
       "    <tr>\n",
       "      <th>3998</th>\n",
       "      <td>39990.0</td>\n",
       "      <td>-1.781166e-23</td>\n",
       "    </tr>\n",
       "    <tr>\n",
       "      <th>3999</th>\n",
       "      <td>40000.0</td>\n",
       "      <td>-1.781166e-23</td>\n",
       "    </tr>\n",
       "  </tbody>\n",
       "</table>\n",
       "<p>4000 rows × 2 columns</p>\n",
       "</div>"
      ],
      "text/plain": [
       "      E Field $(V/m)$       U $(J)$\n",
       "0                10.0 -1.781166e-23\n",
       "1                20.0 -1.781166e-23\n",
       "2                30.0 -1.781166e-23\n",
       "3                40.0 -1.781166e-23\n",
       "4                50.0 -1.781166e-23\n",
       "...               ...           ...\n",
       "3995          39960.0 -1.781166e-23\n",
       "3996          39970.0 -1.781166e-23\n",
       "3997          39980.0 -1.781166e-23\n",
       "3998          39990.0 -1.781166e-23\n",
       "3999          40000.0 -1.781166e-23\n",
       "\n",
       "[4000 rows x 2 columns]"
      ]
     },
     "execution_count": 34,
     "metadata": {},
     "output_type": "execute_result"
    }
   ],
   "source": [
    "constant_U"
   ]
  },
  {
   "cell_type": "code",
   "execution_count": 41,
   "id": "4efb9c9a-6e2b-4c56-a77c-1895981b388d",
   "metadata": {
    "tags": []
   },
   "outputs": [],
   "source": [
    "#Saving the df\n",
    "\n",
    "# Define the directory \n",
    "constant_U = constant_U.set_index(constant_U.columns[0])\n",
    "output_dir = current_directory + '/Testing'\n",
    "    \n",
    "#Define the file name\n",
    "fname = f\"Constant_U.csv\"\n",
    "\n",
    "# Define the full path of the output file\n",
    "output_path = os.path.join(output_dir, fname)\n",
    "\n",
    "# Save the DataFrame as CSV\n",
    "constant_U.to_csv(output_path, header=True, index=True)"
   ]
  },
  {
   "cell_type": "code",
   "execution_count": null,
   "id": "d4454631-a0af-49a1-aa73-c17fc40cc769",
   "metadata": {},
   "outputs": [],
   "source": []
  }
 ],
 "metadata": {
  "kernelspec": {
   "display_name": "Python 3 (ipykernel)",
   "language": "python",
   "name": "python3"
  },
  "language_info": {
   "codemirror_mode": {
    "name": "ipython",
    "version": 3
   },
   "file_extension": ".py",
   "mimetype": "text/x-python",
   "name": "python",
   "nbconvert_exporter": "python",
   "pygments_lexer": "ipython3",
   "version": "3.11.4"
  }
 },
 "nbformat": 4,
 "nbformat_minor": 5
}
