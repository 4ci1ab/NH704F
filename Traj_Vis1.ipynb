{
  "cells": [
    {
      "cell_type": "markdown",
      "metadata": {
        "id": "view-in-github",
        "colab_type": "text"
      },
      "source": [
        "<a href=\"https://colab.research.google.com/github/4ci1ab/NH704F/blob/main/Traj_Vis1.ipynb\" target=\"_parent\"><img src=\"https://colab.research.google.com/assets/colab-badge.svg\" alt=\"Open In Colab\"/></a>"
      ]
    },
    {
      "cell_type": "markdown",
      "metadata": {
        "id": "kbwPTiOqJUJm"
      },
      "source": [
        "### Library"
      ]
    },
    {
      "cell_type": "code",
      "execution_count": 174,
      "metadata": {
        "id": "wmWppsjBHyNf"
      },
      "outputs": [],
      "source": [
        "import numpy as np\n",
        "import sympy as sp\n",
        "import matplotlib.pyplot as plt\n",
        "import os\n",
        "import pandas as pd\n",
        "\n",
        "import math as mt\n",
        "from tabulate import tabulate as tb\n",
        "from IPython.display import display\n",
        "\n",
        "import scipy.constants as sc\n",
        "from scipy import constants"
      ]
    },
    {
      "cell_type": "markdown",
      "metadata": {
        "id": "zlEoV4wmJaMt"
      },
      "source": [
        "### Constants"
      ]
    },
    {
      "cell_type": "code",
      "execution_count": 175,
      "metadata": {
        "id": "CTJZflMIH1-8"
      },
      "outputs": [],
      "source": [
        "qe = sc.elementary_charge\n",
        "me = sc.electron_mass\n",
        "mRb = ((85*10**-3)/(602*10**21))\n",
        "qRb = 1.602176634*10**-19\n",
        "rho = (10**1)*qe #Columb/m -> eq\n",
        "s_w = 0.01*1e-3 #mm\n",
        "scyl = 1e-1 #(m)"
      ]
    },
    {
      "cell_type": "code",
      "execution_count": 176,
      "metadata": {
        "id": "s1jOKNzwRDqE"
      },
      "outputs": [],
      "source": [
        "Rwire = 15e-6  # Radius of wire\n",
        "r_min = Rwire  # Minimum distance to wire\n",
        "\n",
        "min_time_step = 1e-10\n",
        "max_time_step = 100e-9"
      ]
    },
    {
      "cell_type": "markdown",
      "metadata": {
        "id": "yns0HPn5Je7h"
      },
      "source": [
        "### Fund. Funcs.\n"
      ]
    },
    {
      "cell_type": "code",
      "execution_count": 177,
      "metadata": {
        "id": "cuZ0qp8aICoy"
      },
      "outputs": [],
      "source": [
        "def E_fd(s):\n",
        "  (rho)/(2*(mt.pi)*(sc.epsilon_0)*(s))\n",
        "  return (rho)/(2*(mt.pi)*(sc.epsilon_0)*(s))\n",
        "\n",
        "def Phi_fd(s):\n",
        "  ((rho)* mt.log(s/scyl))/(2*(mt.pi)*(sc.epsilon_0))\n",
        "\n",
        "def U_fd(s):\n",
        "  qRb * Phi_fd(s)\n",
        "\n",
        "def K_pr(s):\n",
        "  U_fd(Rwire)-U_fd(s)\n",
        "\n",
        "def K_exp(vx0,vy0):\n",
        "  (0.5)*(mRb)*((vx0**2)+(vy0**2))"
      ]
    },
    {
      "cell_type": "code",
      "execution_count": 178,
      "metadata": {
        "id": "GcpB_c-lIEXL"
      },
      "outputs": [],
      "source": [
        "def Acc(s):\n",
        "  F_s = qRb * E_fd(s)\n",
        "  a_fd = F_s/mRb\n",
        "  return a_fd"
      ]
    },
    {
      "cell_type": "code",
      "execution_count": 179,
      "metadata": {
        "id": "cIufR6ITIikN"
      },
      "outputs": [],
      "source": [
        "def scaled_timestep_conserve_energy(distance_to_wire, r_max):\n",
        "    # Find k from sublevel\n",
        "    # k = sublevel - 315\n",
        "\n",
        "    # Calculate a normalized distance factor with log scale\n",
        "    normalized_distance = max(0, min(np.log10(distance_to_wire - r_min + 1) / np.log10(r_max - r_min + 1), 1))\n",
        "\n",
        "    # Define a scaling function based on normalized distance and k\n",
        "    scaling_factor = min_time_step + normalized_distance * (max_time_step - min_time_step)\n",
        "\n",
        "    # Adjust the scaling factor based on the state (k)\n",
        "    # scaling_factor /= abs(k - 32) + 1  # Adding 1 to avoid division by zero\n",
        "\n",
        "    # Ensure the time step stays within the specified range\n",
        "    scaled_step = max(min(scaling_factor, max_time_step), min_time_step)\n",
        "\n",
        "    return scaled_step"
      ]
    },
    {
      "cell_type": "code",
      "execution_count": 180,
      "metadata": {
        "id": "o_U2qy2zIq75"
      },
      "outputs": [],
      "source": [
        "def scaled_timestep(distance_to_wire, r_max):\n",
        "    # Find k from sublevel\n",
        "    # k = sublevel - 315\n",
        "\n",
        "    # Calculate a normalized distance factor\n",
        "    normalized_distance = max(0, min((distance_to_wire - r_min) / (r_max - r_min), 1))\n",
        "\n",
        "    # Define a scaling function based on normalized distance and k\n",
        "    scaling_factor = min_time_step + normalized_distance * (max_time_step - min_time_step)\n",
        "\n",
        "    # Adjust the scaling factor based on the state (k) with a logarithmic scale\n",
        "    # scaling_factor /= np.log10(abs(k - 32) + 1)  # Adding 1 to avoid log(0)\n",
        "\n",
        "    # Ensure the time step stays within the specified range\n",
        "    scaled_step = max(min(scaling_factor, max_time_step), min_time_step)\n",
        "\n",
        "    return scaled_step"
      ]
    },
    {
      "cell_type": "code",
      "execution_count": 181,
      "metadata": {
        "id": "4nfIkFnUIua7"
      },
      "outputs": [],
      "source": [
        "def iterative_dynamics(t0, x0, vx0, y0, vy0, delta_t0):\n",
        "    # Define constants\n",
        "    #sThresh1 = 20 * Rwire  # Distance threshold (used to change step size once we are closer to wire)\n",
        "    g = - 9.81  # Gravitational acceleration\n",
        "\n",
        "    s0 = ((x0**2 + y0**2)**0.5)\n",
        "\n",
        "    # Calculate the time step based on s0\n",
        "    delta_t = delta_t0 #scaled_timestep(s0, 0.001)\n",
        "\n",
        "    a0 = Acc(s0) #+ g\n",
        "\n",
        "    # Calculate acceleration components\n",
        "    ax0 = (a0 * x0) / s0\n",
        "    ay0 = (a0 * y0) / s0\n",
        "\n",
        "    # Update time and position\n",
        "    t1 = t0 + delta_t\n",
        "    x1 = x0 + vx0 * delta_t + (ax0 * delta_t**2) / 2\n",
        "    vx1 = vx0 + ax0 * delta_t\n",
        "    y1 = y0 + vy0 * delta_t + (ay0 * delta_t**2) / 2\n",
        "    vy1 = vy0 + ay0 * delta_t\n",
        "\n",
        "    # Calculate the new distance from the origin\n",
        "    s1 = ((x1**2 + y1**2)**0.5)\n",
        "\n",
        "    # Calculate the new acceleration\n",
        "    a1 = Acc(s1) #+ g\n",
        "\n",
        "    # Update the time step based on s1\n",
        "    delta_t = scaled_timestep(s1, 0.001)\n",
        "\n",
        "    # Return the updated values\n",
        "    return t1, x1, vx1, y1, vy1, a1, delta_t"
      ]
    },
    {
      "cell_type": "code",
      "execution_count": 182,
      "metadata": {
        "id": "Fl93tQVNIx7c"
      },
      "outputs": [],
      "source": [
        "def iterative_dynamics_for_energy(t0, x0, vx0, y0, vy0, delta_t0):\n",
        "    # Define constants\n",
        "    #sThresh1 = 20 * Rwire  # Distance threshold (used to change step size once we are closer to wire)\n",
        "    g = - 9.81  # Gravitational acceleration\n",
        "\n",
        "    s0 = ((x0**2 + y0**2)**0.5)\n",
        "\n",
        "    # Calculate the time step based on s0\n",
        "    delta_t = scaled_timestep_conserve_energy(s0, 0.001)\n",
        "\n",
        "    a0 = Acc(s0) #+ g\n",
        "\n",
        "    # Calculate acceleration components\n",
        "    ax0 = (a0 * x0) / s0\n",
        "    ay0 = (a0 * y0) / s0\n",
        "\n",
        "    # Update time and position\n",
        "    t1 = t0 + delta_t\n",
        "    x1 = x0 + vx0 * delta_t + (ax0 * delta_t**2) / 2\n",
        "    vx1 = vx0 + ax0 * delta_t\n",
        "    y1 = y0 + vy0 * delta_t + (ay0 * delta_t**2) / 2\n",
        "    vy1 = vy0 + ay0 * delta_t\n",
        "\n",
        "    # Calculate the new distance from the origin\n",
        "    s1 = ((x1**2 + y1**2)**0.5)\n",
        "\n",
        "    # Calculate the new acceleration\n",
        "    a1 = Acc(s1) #+ g\n",
        "\n",
        "    # Update the time step based on s1\n",
        "    delta_t = scaled_timestep_conserve_energy(s1, 0.001)\n",
        "\n",
        "    # Return the updated values\n",
        "    return t1, x1, vx1, y1, vy1, a1, delta_t"
      ]
    },
    {
      "cell_type": "code",
      "execution_count": 183,
      "metadata": {
        "id": "euDM4fK5I1sq"
      },
      "outputs": [],
      "source": [
        "def perform_iterations_w_energy(initial_conditions):\n",
        "\n",
        "     # Unpack initial conditions\n",
        "    t0, x0, vx0, y0, vy0, delta_t0 = initial_conditions\n",
        "\n",
        "    t = 0   #initialize time\n",
        "    Rwire = 15e-6  # (m) initialize min distance from origin\n",
        "    collision_indicator = 0 # binary variable to store if atom hits wire\n",
        "\n",
        "    # Create a list to store position values\n",
        "    trajectory = []\n",
        "\n",
        "    # Append the current position (x0, y0) to the trajectory list\n",
        "    trajectory.append([x0, y0])\n",
        "\n",
        "    # Create energy DataFrame for later use\n",
        "    energy_df = pd.DataFrame(columns=[\"Time\", \"Distance from Wire\", \"Kinetic Energy\", \"Potential Energy\", \"Total Energy\", \"% of Starting Energy\"])\n",
        "\n",
        "    #Calculate initial energy values\n",
        "    s0 = ((x0**2 + y0**2)**0.5)\n",
        "    initial_potential_energy = U_fd(s0)\n",
        "    initial_kinetic_energy = 0.5 * mRb * (vx0**2 + vy0**2)\n",
        "    initial_total_energy = initial_kinetic_energy + initial_potential_energy\n",
        "\n",
        "    #Use list to store energy values\n",
        "    initial_row = {\"Time\": 0, \"Distance from Wire\": s0 - Rwire, \"Kinetic Energy\": initial_kinetic_energy, \"Potential Energy\": initial_potential_energy, \"Total Energy\": initial_total_energy, \"% of Starting Energy\":1}\n",
        "    row_list = [initial_row]\n",
        "\n",
        "    # Calculate tLimit based on the Interaction type          #Stop when it passes plot limits\n",
        "    # if sublevel < 300:\n",
        "    #     tLimit = (abs(y0) / vy0) * 1.2\n",
        "    # else:\n",
        "      #  tLimit = (abs(y0) / vy0) * 2\n",
        "\n",
        "    tLimit = (abs(y0) / vy0) * 1.2   #use shorter time for 'TEST'\n",
        "\n",
        "    while t < tLimit:\n",
        "\n",
        "        t, x, vx, y, vy, a, delta_t = iterative_dynamics_for_energy(t0, x0, vx0, y0, vy0, delta_t0)\n",
        "\n",
        "        #Add new position values to list\n",
        "        trajectory.append([x, y])\n",
        "\n",
        "        # Calculate energy values\n",
        "        kinetic_energy = 0.5 * mRb * (vx**2 + vy**2)\n",
        "        s1 = ((x**2 + y**2)**0.5)\n",
        "        potential_energy = U_fd(s1)\n",
        "        total_energy = kinetic_energy + potential_energy\n",
        "        energy_loss = total_energy/initial_total_energy\n",
        "        # Store the energy values as a dictionary\n",
        "        row = {\"Time\": t, \"Distance from Wire\": s1 - Rwire, \"Kinetic Energy\": kinetic_energy, \"Potential Energy\": potential_energy, \"Total Energy\": total_energy, \"% of Starting Energy\":energy_loss}\n",
        "\n",
        "        # Add the row to the list\n",
        "        row_list.append(row)\n",
        "\n",
        "        #Set new conditions as initial conditions for next iteration\n",
        "        t0, x0, vx0, y0, vy0, a0, delta_t0 = t, x, vx, y, vy, a, delta_t\n",
        "\n",
        "        if s1 <= Rwire:\n",
        "            row_list.pop()\n",
        "            collision_indicator = 1\n",
        "            t = tLimit\n",
        "\n",
        "    # Extract x and y values from the trajectories\n",
        "    x_values, y_values = zip(*trajectory)\n",
        "\n",
        "    # Concatenate the list of rows into the DataFrame\n",
        "    energy_df = pd.concat([pd.DataFrame(row_list)], ignore_index=True)\n",
        "\n",
        "    return x_values, y_values, energy_df, collision_indicator"
      ]
    },
    {
      "cell_type": "code",
      "execution_count": 184,
      "metadata": {
        "id": "oB7adYhfI-n2"
      },
      "outputs": [],
      "source": [
        "def perform_iterations_wout_energy(initial_conditions):\n",
        "\n",
        "     # Unpack initial conditions\n",
        "    t0, x0, vx0, y0, vy0, delta_t0 = initial_conditions\n",
        "\n",
        "    t = 0   #initialize time\n",
        "    Rwire = 15e-6  # (m) initialize min distance from origin\n",
        "    collision_indicator = 0 # binary variable to store if atom hits wire\n",
        "\n",
        "    # Create a list to store position values\n",
        "    trajectory = []\n",
        "\n",
        "    # Append the current position (x0, y0) to the trajectory list\n",
        "    trajectory.append([x0, y0])\n",
        "\n",
        "    #Calculate initial position\n",
        "    s0 = ((x0**2 + y0**2)**0.5)\n",
        "\n",
        "    tLimit = (abs(y0) / vy0) * 1.5   #use shorter time for 'TEST'\n",
        "\n",
        "    while t < tLimit:\n",
        "\n",
        "        t, x, vx, y, vy, a, delta_t = iterative_dynamics(t0, x0, vx0, y0, vy0, delta_t0)\n",
        "\n",
        "        #Add new position values to list\n",
        "        trajectory.append([x, y])\n",
        "\n",
        "        # Calculate new position\n",
        "        s1 = ((x**2 + y**2)**0.5)\n",
        "\n",
        "        #Set new conditions as initial conditions for next iteration\n",
        "        t0, x0, vx0, y0, vy0, a0, delta_t0 = t, x, vx, y, vy, a, delta_t\n",
        "\n",
        "        if s1 <= Rwire:\n",
        "            collision_indicator = 1\n",
        "            t = tLimit\n",
        "\n",
        "    # Extract x and y values from the trajectories\n",
        "    x_values, y_values = zip(*trajectory)\n",
        "\n",
        "    return x_values, y_values, collision_indicator\n"
      ]
    },
    {
      "cell_type": "markdown",
      "metadata": {
        "id": "k0qm8OefJP-C"
      },
      "source": [
        "### Single Atom"
      ]
    },
    {
      "cell_type": "markdown",
      "metadata": {
        "id": "gMXDsVniLJ26"
      },
      "source": [
        " Int Cond"
      ]
    },
    {
      "cell_type": "code",
      "execution_count": 185,
      "metadata": {
        "id": "28LbYt3bJEbs"
      },
      "outputs": [],
      "source": [
        "#Initial conditions\n",
        "x0 = 0.001\n",
        "t0 = 0\n",
        "y0 = - 0.001  # (m)\n",
        "vx0 = 0  # (m/s)\n",
        "vy0 = 1  # (m/s)\n",
        "\n",
        "delta_t0 = 1e-7 #Initial placeholder value"
      ]
    },
    {
      "cell_type": "code",
      "execution_count": 186,
      "metadata": {
        "colab": {
          "base_uri": "https://localhost:8080/"
        },
        "id": "rV7Z3-kiSnzl",
        "outputId": "8865880a-c940-4269-ab38-3a26c34a7997"
      },
      "outputs": [
        {
          "output_type": "stream",
          "name": "stdout",
          "text": [
            "1.50e-03\n"
          ]
        }
      ],
      "source": [
        "print(\"{:.2e}\".format((abs(y0) / vy0) * 1.5))"
      ]
    },
    {
      "cell_type": "code",
      "execution_count": 187,
      "metadata": {
        "id": "6OJnOHcTKFP-"
      },
      "outputs": [],
      "source": [
        "# #Time Step\n",
        "# delT = delta_t0\n",
        "# tstep = 1e-8\n",
        "# Tint = list(np.arange(0, delT, tstep))\n",
        "# steps = 1\n",
        "Tint = range(3)"
      ]
    },
    {
      "cell_type": "code",
      "execution_count": 188,
      "metadata": {
        "id": "pHlq2G1sL4Lc"
      },
      "outputs": [],
      "source": [
        "# #generate trajectory and energy data\n",
        "# sublevels = [284, 300, 314, 320]\n",
        "# trajectory = {}\n",
        "# for sublevel in sublevels:\n",
        "#     initial_conditions = t0, x0, vx0, y0, vy0, delta_t0\n",
        "#     trajectory[sublevel] = perform_iterations_wout_energy(initial_conditions)"
      ]
    },
    {
      "cell_type": "code",
      "execution_count": 189,
      "metadata": {
        "id": "ehljbC3YOCs6"
      },
      "outputs": [],
      "source": [
        "# sublevels = [284, 300, 314, 320]\n",
        "trajectory = {}\n",
        "for ti in Tint:\n",
        "    initial_conditions = t0, x0, vx0, y0, vy0, delta_t0\n",
        "    trajectory[ti] = perform_iterations_wout_energy(initial_conditions)"
      ]
    },
    {
      "cell_type": "code",
      "source": [
        "initial_conditions = t0, x0, vx0, y0, vy0, delta_t0\n",
        "\n",
        "print(perform_iterations_wout_energy(initial_conditions)[0][1])\n",
        "print(perform_iterations_wout_energy(initial_conditions)[1][1])"
      ],
      "metadata": {
        "colab": {
          "base_uri": "https://localhost:8080/"
        },
        "id": "LXcsJOuj3ifc",
        "outputId": "37bde3b8-1c71-4722-80ca-d5b060695340"
      },
      "execution_count": 190,
      "outputs": [
        {
          "output_type": "stream",
          "name": "stdout",
          "text": [
            "0.0010000000000816977\n",
            "-0.0009999000000816976\n"
          ]
        }
      ]
    },
    {
      "cell_type": "code",
      "execution_count": 191,
      "metadata": {
        "id": "GP5Zx3kuXz4n"
      },
      "outputs": [],
      "source": [
        "# print(trajectory[0][1])"
      ]
    },
    {
      "cell_type": "code",
      "execution_count": 192,
      "metadata": {
        "colab": {
          "base_uri": "https://localhost:8080/"
        },
        "id": "v1hWiEGPYc6M",
        "outputId": "9d13f955-20c0-41a9-9203-25a2c243ecd2"
      },
      "outputs": [
        {
          "output_type": "stream",
          "name": "stdout",
          "text": [
            "1.41e-03\n"
          ]
        }
      ],
      "source": [
        "print(\"{:.2e}\".format(((x0**2 + y0**2)**0.5)))"
      ]
    },
    {
      "cell_type": "markdown",
      "metadata": {
        "id": "IXqoRb6KLOBK"
      },
      "source": [
        "Plt Data"
      ]
    },
    {
      "cell_type": "code",
      "source": [
        "plt.plot(perform_iterations_wout_energy(initial_conditions)[0], perform_iterations_wout_energy(initial_conditions)[1])"
      ],
      "metadata": {
        "colab": {
          "base_uri": "https://localhost:8080/",
          "height": 447
        },
        "id": "_dWiJIJ-vkKJ",
        "outputId": "972fccf1-cd84-4737-cc33-58de5d3fb09a"
      },
      "execution_count": 193,
      "outputs": [
        {
          "output_type": "execute_result",
          "data": {
            "text/plain": [
              "[<matplotlib.lines.Line2D at 0x7acf5727e0b0>]"
            ]
          },
          "metadata": {},
          "execution_count": 193
        },
        {
          "output_type": "display_data",
          "data": {
            "text/plain": [
              "<Figure size 640x480 with 1 Axes>"
            ],
            "image/png": "[encoded data removed]"
          },
          "metadata": {}
        }
      ]
    },
    {
      "cell_type": "code",
      "execution_count": 194,
      "metadata": {
        "colab": {
          "base_uri": "https://localhost:8080/",
          "height": 407
        },
        "id": "14J3VJpFLNrr",
        "outputId": "35e750db-bc85-46b5-cd57-9b76927508f5"
      },
      "outputs": [
        {
          "output_type": "display_data",
          "data": {
            "text/plain": [
              "<Figure size 800x400 with 4 Axes>"
            ],
            "image/png": "[encoded data removed]"
          },
          "metadata": {}
        }
      ],
      "source": [
        "# Create a single row of four subplots with adjusted spacing\n",
        "fig, axs = plt.subplots(1, 4, figsize=(8, 4), sharey = True)  # Use sharex to share x-axis ticks\n",
        "\n",
        "# Add the permanent marker\n",
        "Rwire = 15e-6  # Radius of the wire\n",
        "x_center = 0  # X-coordinate of the center of the wire\n",
        "y_center = 0  # Y-coordinate of the center of the wire\n",
        "\n",
        "#Plot ranges\n",
        "xMin, xMax = -0.00024, 0.00014\n",
        "yMin, yMax = -0.00075, 0.0002\n",
        "xTicks = [-0.0002, -0.0001, 0, 0.0001, 0.0002]  # Define your desired tick positions\n",
        "\n",
        "# Plot the wire as a circle\n",
        "for ax in axs:\n",
        "    circle = plt.Circle((x_center, y_center), Rwire, color='grey', fill=True)\n",
        "    ax.add_artist(circle)\n",
        "\n",
        "# Plot the trajectories for each sublevel in a separate subplot\n",
        "for i, ti in enumerate(Tint[::len(axs)]): #I dont think it includes end point\n",
        "#   k = sublevel - 315\n",
        "    ax = axs[i]\n",
        "    ax.plot(trajectory[0][0], trajectory[0][1], color='blue', linestyle='dashed', linewidth=1)\n",
        "    ax.set_xlabel('x (m)', fontsize=12)\n",
        "    if i == 0:\n",
        "        ax.set_ylabel('y (m)', fontsize=12)\n",
        "    ax.set_title(f't: {\"{:.2e}\".format(ti)}', fontsize=12)\n",
        "    ax.set_xlim(xMin, xMax)\n",
        "    ax.set_ylim(yMin, yMax)\n",
        "    ax.set_aspect('equal')\n",
        "\n",
        "\n",
        "# # Set the x-ticks for the entire row of subplots\n",
        "# for i in range(4):\n",
        "#     plt.sca(axs[i])\n",
        "#     plt.xticks(xTicks, rotation=45)  # Set x ticks for the bottom subplot\n",
        "\n",
        "\n",
        "plt.tight_layout()\n",
        "plt.show()"
      ]
    },
    {
      "cell_type": "code",
      "execution_count": 195,
      "metadata": {
        "id": "hAWzoN4EPhAD",
        "colab": {
          "base_uri": "https://localhost:8080/",
          "height": 568
        },
        "outputId": "f0654072-8fc2-4870-9450-4a59d20461e3"
      },
      "outputs": [
        {
          "output_type": "error",
          "ename": "NameError",
          "evalue": "name 'sublevels' is not defined",
          "traceback": [
            "\u001b[0;31m---------------------------------------------------------------------------\u001b[0m",
            "\u001b[0;31mNameError\u001b[0m                                 Traceback (most recent call last)",
            "\u001b[0;32m<ipython-input-195-6071dacf3845>\u001b[0m in \u001b[0;36m<cell line: 20>\u001b[0;34m()\u001b[0m\n\u001b[1;32m     18\u001b[0m \u001b[0;34m\u001b[0m\u001b[0m\n\u001b[1;32m     19\u001b[0m \u001b[0;31m# Plot the trajectories for each sublevel in a separate subplot\u001b[0m\u001b[0;34m\u001b[0m\u001b[0;34m\u001b[0m\u001b[0m\n\u001b[0;32m---> 20\u001b[0;31m \u001b[0;32mfor\u001b[0m \u001b[0mi\u001b[0m\u001b[0;34m,\u001b[0m \u001b[0msublevel\u001b[0m \u001b[0;32min\u001b[0m \u001b[0menumerate\u001b[0m\u001b[0;34m(\u001b[0m\u001b[0msublevels\u001b[0m\u001b[0;34m)\u001b[0m\u001b[0;34m:\u001b[0m\u001b[0;34m\u001b[0m\u001b[0;34m\u001b[0m\u001b[0m\n\u001b[0m\u001b[1;32m     21\u001b[0m     \u001b[0mk\u001b[0m \u001b[0;34m=\u001b[0m \u001b[0msublevel\u001b[0m \u001b[0;34m-\u001b[0m \u001b[0;36m315\u001b[0m\u001b[0;34m\u001b[0m\u001b[0;34m\u001b[0m\u001b[0m\n\u001b[1;32m     22\u001b[0m     \u001b[0max\u001b[0m \u001b[0;34m=\u001b[0m \u001b[0maxs\u001b[0m\u001b[0;34m[\u001b[0m\u001b[0mi\u001b[0m\u001b[0;34m]\u001b[0m\u001b[0;34m\u001b[0m\u001b[0;34m\u001b[0m\u001b[0m\n",
            "\u001b[0;31mNameError\u001b[0m: name 'sublevels' is not defined"
          ]
        },
        {
          "output_type": "display_data",
          "data": {
            "text/plain": [
              "<Figure size 800x400 with 4 Axes>"
            ],
            "image/png": "[encoded data removed]"
          },
          "metadata": {}
        }
      ],
      "source": [
        "# Create a single row of four subplots with adjusted spacing\n",
        "fig, axs = plt.subplots(1, 4, figsize=(8, 4), sharey=True)  # Use sharex to share x-axis ticks\n",
        "\n",
        "# Add the permanent marker\n",
        "Rwire = 15e-6  # Radius of the wire\n",
        "x_center = 0  # X-coordinate of the center of the wire\n",
        "y_center = 0  # Y-coordinate of the center of the wire\n",
        "\n",
        "# Plot ranges\n",
        "xMin, xMax = -0.00024, 0.00014\n",
        "yMin, yMax = -0.00075, 0.0002\n",
        "xTicks = [-0.0002, -0.0001, 0, 0.0001, 0.0002]  # Define your desired tick positions\n",
        "\n",
        "# Plot the wire as a circle\n",
        "for ax in axs:\n",
        "    circle = plt.Circle((x_center, y_center), Rwire, color='grey', fill=True)\n",
        "    ax.add_artist(circle)\n",
        "\n",
        "# Plot the trajectories for each sublevel in a separate subplot\n",
        "for i, sublevel in enumerate(sublevels):\n",
        "    k = sublevel - 315\n",
        "    ax = axs[i]\n",
        "    ax.plot(trajectory[sublevel][0], trajectory[sublevel][1], color='blue', linestyle='dashed', linewidth=1)\n",
        "    ax.set_xlabel('x (μm)', fontsize=12)\n",
        "    if i == 0:\n",
        "        ax.set_ylabel('y (μm)', fontsize=12)\n",
        "    ax.set_title(f'k: {k}', fontsize=12)\n",
        "    ax.set_xlim(xMin, xMax)\n",
        "    ax.set_ylim(yMin, yMax)\n",
        "    ax.set_aspect('equal')\n",
        "\n",
        "# Convert axis labels to micrometers\n",
        "for ax in axs:\n",
        "    x_ticks = ax.get_xticks() * 1e6\n",
        "    y_ticks = ax.get_yticks() * 1e6\n",
        "\n",
        "ax.set_xticklabels([f'{tick:.0f}' for tick in x_ticks])\n",
        "ax.set_yticklabels([f'{tick:.0f}' for tick in y_ticks])\n",
        "\n",
        "# Set the x-ticks for the entire row of subplots\n",
        "for i in range(4):\n",
        "    plt.sca(axs[i])\n",
        "    plt.xticks(xTicks, rotation=45)  # Set x ticks for the bottom subplot\n",
        "\n",
        "plt.tight_layout()\n",
        "plt.show()"
      ]
    },
    {
      "cell_type": "code",
      "execution_count": null,
      "metadata": {
        "id": "AnQbyqKjQUll"
      },
      "outputs": [],
      "source": []
    },
    {
      "cell_type": "code",
      "execution_count": null,
      "metadata": {
        "id": "jTfDIK_BQUwR"
      },
      "outputs": [],
      "source": []
    }
  ],
  "metadata": {
    "colab": {
      "provenance": [],
      "authorship_tag": "ABX9TyPWkBN74f/9ki7PpKaff146",
      "include_colab_link": true
    },
    "kernelspec": {
      "display_name": "Python 3",
      "name": "python3"
    },
    "language_info": {
      "name": "python"
    }
  },
  "nbformat": 4,
  "nbformat_minor": 0
}