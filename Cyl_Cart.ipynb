{
  "nbformat": 4,
  "nbformat_minor": 0,
  "metadata": {
    "colab": {
      "provenance": []
    },
    "kernelspec": {
      "name": "python3",
      "display_name": "Python 3"
    },
    "language_info": {
      "name": "python"
    }
  },
  "cells": [
    {
      "cell_type": "code",
      "execution_count": 33,
      "metadata": {
        "id": "DjAAM6ra6gvj"
      },
      "outputs": [],
      "source": [
        "import numpy as np\n",
        "import sympy as sp\n",
        "import matplotlib.pyplot as plt\n",
        "import os\n",
        "import pandas as pd\n",
        "\n",
        "import math as mt\n",
        "from tabulate import tabulate as tb\n",
        "from IPython.display import display\n",
        "\n",
        "import scipy.constants\n",
        "from scipy import constants"
      ]
    },
    {
      "cell_type": "code",
      "source": [
        "def cyl_cart(r,theta,phi):\n",
        "  x = r * mt.sin(theta) * mt.cos(phi)\n",
        "  y = r * mt.sin(theta) * mt.sin(phi)\n",
        "  z = r * mt.cos(theta)\n",
        "\n",
        "  print(np.array([x,y,z]))# Store this value???? to refrence.\n"
      ],
      "metadata": {
        "id": "Aadtg3YPJEbg"
      },
      "execution_count": 34,
      "outputs": []
    },
    {
      "cell_type": "code",
      "source": [
        "re3 = np.array([1, 0.9, 0.1])\n",
        "\n",
        "cyl_cart(re3[0],re3[1],re3[2])"
      ],
      "metadata": {
        "colab": {
          "base_uri": "https://localhost:8080/"
        },
        "id": "XTzbJn2-KxnZ",
        "outputId": "b7418b99-2cc5-4701-9576-e262f47ad93c"
      },
      "execution_count": 35,
      "outputs": [
        {
          "output_type": "stream",
          "name": "stdout",
          "text": [
            "[0.77941354 0.0782022  0.62160997]\n"
          ]
        }
      ]
    }
  ]
}