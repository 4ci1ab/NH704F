{
  "nbformat": 4,
  "nbformat_minor": 0,
  "metadata": {
    "colab": {
      "provenance": [],
      "authorship_tag": "ABX9TyNsLjotmrBqfD8aUEN9Dyk9",
      "include_colab_link": true
    },
    "kernelspec": {
      "name": "python3",
      "display_name": "Python 3"
    },
    "language_info": {
      "name": "python"
    }
  },
  "cells": [
    {
      "cell_type": "markdown",
      "metadata": {
        "id": "view-in-github",
        "colab_type": "text"
      },
      "source": [
        "<a href=\"https://colab.research.google.com/github/4ci1ab/NH704F/blob/main/cyl_cart1.ipynb\" target=\"_parent\"><img src=\"https://colab.research.google.com/assets/colab-badge.svg\" alt=\"Open In Colab\"/></a>"
      ]
    },
    {
      "cell_type": "code",
      "execution_count": null,
      "metadata": {
        "id": "DjAAM6ra6gvj"
      },
      "outputs": [],
      "source": [
        "import numpy as np\n",
        "import sympy as sp\n",
        "import matplotlib.pyplot as plt\n",
        "import os\n",
        "import pandas as pd\n",
        "\n",
        "import math as mt\n",
        "from tabulate import tabulate as tb\n",
        "from IPython.display import display\n",
        "\n",
        "import scipy.constants as sc\n",
        "from scipy import constants"
      ]
    },
    {
      "cell_type": "code",
      "source": [
        "def cyl_cart(cyl):\n",
        "  x = cyl[0] * mt.sin(cyl[1]) * mt.cos(cyl[2])\n",
        "  y = cyl[0] * mt.sin(cyl[1]) * mt.sin(cyl[2])\n",
        "  z = cyl[0] * mt.cos(cyl[1])\n",
        "\n",
        "  print(np.array([x,y,z]))# Store this value???? to refrence.\n"
      ],
      "metadata": {
        "id": "Aadtg3YPJEbg"
      },
      "execution_count": null,
      "outputs": []
    },
    {
      "cell_type": "code",
      "source": [
        "re3 = np.array([1, 0.9, 0.1])\n",
        "\n",
        "re1 = np.array([0.9, 0.25, 0.6])\n",
        "\n",
        "re2 = np.array([0.632, 0.33, 0.19054])\n",
        "\n",
        "re0 = np.array([0.03, 0.765, 0.45])\n",
        "\n",
        "re7 = np.array([-0.03, -0.765, -0.45])"
      ],
      "metadata": {
        "id": "SEZLEQPn9xjM"
      },
      "execution_count": null,
      "outputs": []
    },
    {
      "cell_type": "code",
      "source": [
        "cyl_cart(re3)\n",
        "cyl_cart(re1)\n",
        "cyl_cart(re2)\n",
        "cyl_cart(re0)"
      ],
      "metadata": {
        "colab": {
          "base_uri": "https://localhost:8080/"
        },
        "id": "XTzbJn2-KxnZ",
        "outputId": "5338f2d3-e8cb-4a66-bb48-55172e81de56"
      },
      "execution_count": null,
      "outputs": [
        {
          "output_type": "stream",
          "name": "stdout",
          "text": [
            "[0.77941354 0.0782022  0.62160997]\n",
            "[0.18377217 0.12572531 0.87202118]\n",
            "[0.20108883 0.03878599 0.59789876]\n",
            "[0.01870779 0.00903689 0.02164147]\n"
          ]
        }
      ]
    },
    {
      "cell_type": "code",
      "source": [
        "def rho(s):\n",
        "  return 1*s"
      ],
      "metadata": {
        "id": "Y-Rk4m7iGmW-"
      },
      "execution_count": null,
      "outputs": []
    },
    {
      "cell_type": "code",
      "source": [
        "def E_fd(s):\n",
        "  (rho(s))/(2(mt.pi)*(sc.epsilon_0)*(s))"
      ],
      "metadata": {
        "colab": {
          "base_uri": "https://localhost:8080/"
        },
        "id": "fz2g3SMrC_as",
        "outputId": "fb280631-78ba-4e34-e88a-4cc85df443a0"
      },
      "execution_count": null,
      "outputs": [
        {
          "output_type": "stream",
          "name": "stderr",
          "text": [
            "<>:2: SyntaxWarning: 'int' object is not callable; perhaps you missed a comma?\n",
            "<>:2: SyntaxWarning: 'int' object is not callable; perhaps you missed a comma?\n",
            "<ipython-input-14-c5f9e5faf73c>:2: SyntaxWarning: 'int' object is not callable; perhaps you missed a comma?\n",
            "  (rho(s))/(2(mt.pi)*(sc.epsilon_0)*(s))\n"
          ]
        }
      ]
    },
    {
      "cell_type": "code",
      "source": [
        "def PhiF(s):\n",
        "  phigs = - sp.integrate(E_fd(s),s)"
      ],
      "metadata": {
        "id": "RsOXOeCmMFpR"
      },
      "execution_count": null,
      "outputs": []
    },
    {
      "cell_type": "code",
      "source": [
        "def renplt(n,x,y):\n",
        "  plt.plot(n)\n",
        "  plt.xlabel(x)\n",
        "  plt.ylabel(y)\n",
        "  plt.show()"
      ],
      "metadata": {
        "id": "2bjHB2AEMnyC"
      },
      "execution_count": null,
      "outputs": []
    }
  ]
}