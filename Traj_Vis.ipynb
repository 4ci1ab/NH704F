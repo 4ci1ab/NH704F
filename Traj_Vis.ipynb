{
  "nbformat": 4,
  "nbformat_minor": 0,
  "metadata": {
    "colab": {
      "provenance": [],
      "authorship_tag": "ABX9TyPDIFqNlhVl5jbwoCd1m25c",
      "include_colab_link": true
    },
    "kernelspec": {
      "name": "python3",
      "display_name": "Python 3"
    },
    "language_info": {
      "name": "python"
    }
  },
  "cells": [
    {
      "cell_type": "markdown",
      "metadata": {
        "id": "view-in-github",
        "colab_type": "text"
      },
      "source": [
        "<a href=\"https://colab.research.google.com/github/4ci1ab/NH704F/blob/main/Traj_Vis.ipynb\" target=\"_parent\"><img src=\"https://colab.research.google.com/assets/colab-badge.svg\" alt=\"Open In Colab\"/></a>"
      ]
    },
    {
      "cell_type": "markdown",
      "source": [
        "### Library"
      ],
      "metadata": {
        "id": "kbwPTiOqJUJm"
      }
    },
    {
      "cell_type": "code",
      "execution_count": 342,
      "metadata": {
        "id": "wmWppsjBHyNf"
      },
      "outputs": [],
      "source": [
        "import numpy as np\n",
        "import sympy as sp\n",
        "import matplotlib.pyplot as plt\n",
        "import os\n",
        "import pandas as pd\n",
        "\n",
        "import math as mt\n",
        "from tabulate import tabulate as tb\n",
        "from IPython.display import display\n",
        "\n",
        "import scipy.constants as sc\n",
        "from scipy import constants"
      ]
    },
    {
      "cell_type": "markdown",
      "source": [
        "### Constants"
      ],
      "metadata": {
        "id": "zlEoV4wmJaMt"
      }
    },
    {
      "cell_type": "code",
      "source": [
        "mRb = ((85*10**-3)/(602*10**21))\n",
        "qRb = 1.602176634*10**-19\n",
        "rho = 5\n",
        "s_w = 0.01*1e-3 #mm"
      ],
      "metadata": {
        "id": "CTJZflMIH1-8"
      },
      "execution_count": 343,
      "outputs": []
    },
    {
      "cell_type": "code",
      "source": [
        "Rwire = 15e-6  # Radius of wire\n",
        "r_min = Rwire  # Minimum distance to wire\n",
        "\n",
        "min_time_step = 1e-10\n",
        "max_time_step = 100e-9"
      ],
      "metadata": {
        "id": "s1jOKNzwRDqE"
      },
      "execution_count": 344,
      "outputs": []
    },
    {
      "cell_type": "markdown",
      "source": [
        "### Fund. Funcs.\n"
      ],
      "metadata": {
        "id": "yns0HPn5Je7h"
      }
    },
    {
      "cell_type": "code",
      "source": [
        "def E_fd(s):\n",
        "  (rho)/(2*(mt.pi)*(sc.epsilon_0)*(s))\n",
        "  return (rho)/(2*(mt.pi)*(sc.epsilon_0)*(s))\n",
        "\n",
        "def Phi_fd(s):\n",
        "  ((rho)* mt.log(s/sc))/(2*(mt.pi)*(sc.epsilon_0))\n",
        "\n",
        "def U_fd(s):\n",
        "  qRb * Phi_fd(s)\n",
        "\n",
        "def K_pr(s):\n",
        "  U_fd(s_w)-U_fd(s)\n",
        "\n",
        "def K_exp(vx0,vy0):\n",
        "  (0.5)*(mRb)*((vx0**2)+(vy0**2))"
      ],
      "metadata": {
        "id": "cuZ0qp8aICoy"
      },
      "execution_count": 345,
      "outputs": []
    },
    {
      "cell_type": "code",
      "source": [
        "def Acc(s):\n",
        "  F_s = qRb * E_fd(s)\n",
        "  a_fd = F_s/mRb\n",
        "  return a_fd"
      ],
      "metadata": {
        "id": "GcpB_c-lIEXL"
      },
      "execution_count": 346,
      "outputs": []
    },
    {
      "cell_type": "code",
      "source": [
        "def scaled_timestep_conserve_energy(distance_to_wire, r_max):\n",
        "    # Find k from sublevel\n",
        "    # k = sublevel - 315\n",
        "\n",
        "    # Calculate a normalized distance factor with log scale\n",
        "    normalized_distance = max(0, min(np.log10(distance_to_wire - r_min + 1) / np.log10(r_max - r_min + 1), 1))\n",
        "\n",
        "    # Define a scaling function based on normalized distance and k\n",
        "    scaling_factor = min_time_step + normalized_distance * (max_time_step - min_time_step)\n",
        "\n",
        "    # Adjust the scaling factor based on the state (k)\n",
        "    # scaling_factor /= abs(k - 32) + 1  # Adding 1 to avoid division by zero\n",
        "\n",
        "    # Ensure the time step stays within the specified range\n",
        "    scaled_step = max(min(scaling_factor, max_time_step), min_time_step)\n",
        "\n",
        "    return scaled_step"
      ],
      "metadata": {
        "id": "cIufR6ITIikN"
      },
      "execution_count": 347,
      "outputs": []
    },
    {
      "cell_type": "code",
      "source": [
        "def scaled_timestep(distance_to_wire, r_max):\n",
        "    # Find k from sublevel\n",
        "    # k = sublevel - 315\n",
        "\n",
        "    # Calculate a normalized distance factor\n",
        "    normalized_distance = max(0, min((distance_to_wire - r_min) / (r_max - r_min), 1))\n",
        "\n",
        "    # Define a scaling function based on normalized distance and k\n",
        "    scaling_factor = min_time_step + normalized_distance * (max_time_step - min_time_step)\n",
        "\n",
        "    # Adjust the scaling factor based on the state (k) with a logarithmic scale\n",
        "    # scaling_factor /= np.log10(abs(k - 32) + 1)  # Adding 1 to avoid log(0)\n",
        "\n",
        "    # Ensure the time step stays within the specified range\n",
        "    scaled_step = max(min(scaling_factor, max_time_step), min_time_step)\n",
        "\n",
        "    return scaled_step"
      ],
      "metadata": {
        "id": "o_U2qy2zIq75"
      },
      "execution_count": 348,
      "outputs": []
    },
    {
      "cell_type": "code",
      "source": [
        "def iterative_dynamics(t0, x0, vx0, y0, vy0, delta_t0):\n",
        "    # Define constants\n",
        "    #sThresh1 = 20 * Rwire  # Distance threshold (used to change step size once we are closer to wire)\n",
        "    g = - 9.81  # Gravitational acceleration\n",
        "\n",
        "    s0 = ((x0**2 + y0**2)**0.5)\n",
        "\n",
        "    # Calculate the time step based on s0\n",
        "    delta_t = scaled_timestep(s0, 0.001)\n",
        "\n",
        "    a0 = Acc(s0) #+ g\n",
        "\n",
        "    # Calculate acceleration components\n",
        "    ax0 = (a0 * x0) / s0\n",
        "    ay0 = (a0 * y0) / s0\n",
        "\n",
        "    # Update time and position\n",
        "    t1 = t0 + delta_t\n",
        "    x1 = x0 + vx0 * delta_t + (ax0 * delta_t**2) / 2\n",
        "    vx1 = vx0 + ax0 * delta_t\n",
        "    y1 = y0 + vy0 * delta_t + (ay0 * delta_t**2) / 2\n",
        "    vy1 = vy0 + ay0 * delta_t\n",
        "\n",
        "    # Calculate the new distance from the origin\n",
        "    s1 = ((x1**2 + y1**2)**0.5)\n",
        "\n",
        "    # Calculate the new acceleration\n",
        "    a1 = Acc(s1) #+ g\n",
        "\n",
        "    # Update the time step based on s1\n",
        "    delta_t = scaled_timestep(s1, 0.001)\n",
        "\n",
        "    # Return the updated values\n",
        "    return t1, x1, vx1, y1, vy1, a1, delta_t"
      ],
      "metadata": {
        "id": "4nfIkFnUIua7"
      },
      "execution_count": 349,
      "outputs": []
    },
    {
      "cell_type": "code",
      "source": [
        "def iterative_dynamics_for_energy(t0, x0, vx0, y0, vy0, delta_t0):\n",
        "    # Define constants\n",
        "    #sThresh1 = 20 * Rwire  # Distance threshold (used to change step size once we are closer to wire)\n",
        "    g = - 9.81  # Gravitational acceleration\n",
        "\n",
        "    s0 = ((x0**2 + y0**2)**0.5)\n",
        "\n",
        "    # Calculate the time step based on s0\n",
        "    delta_t = scaled_timestep_conserve_energy(s0, 0.001)\n",
        "\n",
        "    a0 = Acc(s0) #+ g\n",
        "\n",
        "    # Calculate acceleration components\n",
        "    ax0 = (a0 * x0) / s0\n",
        "    ay0 = (a0 * y0) / s0\n",
        "\n",
        "    # Update time and position\n",
        "    t1 = t0 + delta_t\n",
        "    x1 = x0 + vx0 * delta_t + (ax0 * delta_t**2) / 2\n",
        "    vx1 = vx0 + ax0 * delta_t\n",
        "    y1 = y0 + vy0 * delta_t + (ay0 * delta_t**2) / 2\n",
        "    vy1 = vy0 + ay0 * delta_t\n",
        "\n",
        "    # Calculate the new distance from the origin\n",
        "    s1 = ((x1**2 + y1**2)**0.5)\n",
        "\n",
        "    # Calculate the new acceleration\n",
        "    a1 = Acc(s1) #+ g\n",
        "\n",
        "    # Update the time step based on s1\n",
        "    delta_t = scaled_timestep_conserve_energy(s1, 0.001)\n",
        "\n",
        "    # Return the updated values\n",
        "    return t1, x1, vx1, y1, vy1, a1, delta_t"
      ],
      "metadata": {
        "id": "Fl93tQVNIx7c"
      },
      "execution_count": 350,
      "outputs": []
    },
    {
      "cell_type": "code",
      "source": [
        "def perform_iterations_w_energy(initial_conditions):\n",
        "\n",
        "     # Unpack initial conditions\n",
        "    t0, x0, vx0, y0, vy0, delta_t0 = initial_conditions\n",
        "\n",
        "    t = 0   #initialize time\n",
        "    Rwire = 15e-6  # (m) initialize min distance from origin\n",
        "    collision_indicator = 0 # binary variable to store if atom hits wire\n",
        "\n",
        "    # Create a list to store position values\n",
        "    trajectory = []\n",
        "\n",
        "    # Append the current position (x0, y0) to the trajectory list\n",
        "    trajectory.append([x0, y0])\n",
        "\n",
        "    # Create energy DataFrame for later use\n",
        "    energy_df = pd.DataFrame(columns=[\"Time\", \"Distance from Wire\", \"Kinetic Energy\", \"Potential Energy\", \"Total Energy\", \"% of Starting Energy\"])\n",
        "\n",
        "    #Calculate initial energy values\n",
        "    s0 = ((x0**2 + y0**2)**0.5)\n",
        "    initial_potential_energy = U_fd(s0)\n",
        "    initial_kinetic_energy = 0.5 * mRb * (vx0**2 + vy0**2)\n",
        "    initial_total_energy = initial_kinetic_energy + initial_potential_energy\n",
        "\n",
        "    #Use list to store energy values\n",
        "    initial_row = {\"Time\": 0, \"Distance from Wire\": s0 - Rwire, \"Kinetic Energy\": initial_kinetic_energy, \"Potential Energy\": initial_potential_energy, \"Total Energy\": initial_total_energy, \"% of Starting Energy\":1}\n",
        "    row_list = [initial_row]\n",
        "\n",
        "    # Calculate tLimit based on the Interaction type          #Stop when it passes plot limits\n",
        "    # if sublevel < 300:\n",
        "    #     tLimit = (abs(y0) / vy0) * 1.2\n",
        "    # else:\n",
        "      #  tLimit = (abs(y0) / vy0) * 2\n",
        "\n",
        "    tLimit = (abs(y0) / vy0) * 1.2   #use shorter time for 'TEST'\n",
        "\n",
        "    while t < tLimit:\n",
        "\n",
        "        t, x, vx, y, vy, a, delta_t = iterative_dynamics_for_energy(t0, x0, vx0, y0, vy0, delta_t0)\n",
        "\n",
        "        #Add new position values to list\n",
        "        trajectory.append([x, y])\n",
        "\n",
        "        # Calculate energy values\n",
        "        kinetic_energy = 0.5 * mRb * (vx**2 + vy**2)\n",
        "        s1 = ((x**2 + y**2)**0.5)\n",
        "        potential_energy = U_fd(s1)\n",
        "        total_energy = kinetic_energy + potential_energy\n",
        "        energy_loss = total_energy/initial_total_energy\n",
        "        # Store the energy values as a dictionary\n",
        "        row = {\"Time\": t, \"Distance from Wire\": s1 - Rwire, \"Kinetic Energy\": kinetic_energy, \"Potential Energy\": potential_energy, \"Total Energy\": total_energy, \"% of Starting Energy\":energy_loss}\n",
        "\n",
        "        # Add the row to the list\n",
        "        row_list.append(row)\n",
        "\n",
        "        #Set new conditions as initial conditions for next iteration\n",
        "        t0, x0, vx0, y0, vy0, a0, delta_t0 = t, x, vx, y, vy, a, delta_t\n",
        "\n",
        "        if s1 <= Rwire:\n",
        "            row_list.pop()\n",
        "            collision_indicator = 1\n",
        "            t = tLimit\n",
        "\n",
        "    # Extract x and y values from the trajectories\n",
        "    x_values, y_values = zip(*trajectory)\n",
        "\n",
        "    # Concatenate the list of rows into the DataFrame\n",
        "    energy_df = pd.concat([pd.DataFrame(row_list)], ignore_index=True)\n",
        "\n",
        "    return x_values, y_values, energy_df, collision_indicator"
      ],
      "metadata": {
        "id": "euDM4fK5I1sq"
      },
      "execution_count": 351,
      "outputs": []
    },
    {
      "cell_type": "code",
      "source": [
        "def perform_iterations_wout_energy(initial_conditions):\n",
        "\n",
        "     # Unpack initial conditions\n",
        "    t0, x0, vx0, y0, vy0, delta_t0 = initial_conditions\n",
        "\n",
        "    t = 0   #initialize time\n",
        "    Rwire = 15e-6  # (m) initialize min distance from origin\n",
        "    collision_indicator = 0 # binary variable to store if atom hits wire\n",
        "\n",
        "    # Create a list to store position values\n",
        "    trajectory = []\n",
        "\n",
        "    # Append the current position (x0, y0) to the trajectory list\n",
        "    trajectory.append([x0, y0])\n",
        "\n",
        "    #Calculate initial position\n",
        "    s0 = ((x0**2 + y0**2)**0.5)\n",
        "\n",
        "    tLimit = (abs(y0) / vy0) * 1.5   #use shorter time for 'TEST'\n",
        "\n",
        "    while t < tLimit:\n",
        "\n",
        "        t, x, vx, y, vy, a, delta_t = iterative_dynamics(t0, x0, vx0, y0, vy0, delta_t0)\n",
        "\n",
        "        #Add new position values to list\n",
        "        trajectory.append([x, y])\n",
        "\n",
        "        # Calculate new position\n",
        "        s1 = ((x**2 + y**2)**0.5)\n",
        "\n",
        "        #Set new conditions as initial conditions for next iteration\n",
        "        t0, x0, vx0, y0, vy0, a0, delta_t0 = t, x, vx, y, vy, a, delta_t\n",
        "\n",
        "        if s1 <= Rwire:\n",
        "            collision_indicator = 1\n",
        "            t = tLimit\n",
        "\n",
        "    # Extract x and y values from the trajectories\n",
        "    x_values, y_values = zip(*trajectory)\n",
        "\n",
        "    return x_values, y_values, collision_indicator\n"
      ],
      "metadata": {
        "id": "oB7adYhfI-n2"
      },
      "execution_count": 352,
      "outputs": []
    },
    {
      "cell_type": "markdown",
      "source": [
        "### Single Atom"
      ],
      "metadata": {
        "id": "k0qm8OefJP-C"
      }
    },
    {
      "cell_type": "markdown",
      "source": [
        " Int Cond"
      ],
      "metadata": {
        "id": "gMXDsVniLJ26"
      }
    },
    {
      "cell_type": "code",
      "source": [
        "#Initial conditions\n",
        "x0 = 0.0001\n",
        "t0 = 0\n",
        "y0 = 0.001  # (m)\n",
        "vx0 = 0  # (m/s)\n",
        "vy0 = 0.01  # (m/s)\n",
        "\n",
        "delta_t0 = 100e-9 #Initial placeholder value"
      ],
      "metadata": {
        "id": "28LbYt3bJEbs"
      },
      "execution_count": 353,
      "outputs": []
    },
    {
      "cell_type": "code",
      "source": [
        "print(\"{:.2e}\".format((abs(y0) / vy0) * 1.5))"
      ],
      "metadata": {
        "colab": {
          "base_uri": "https://localhost:8080/"
        },
        "id": "rV7Z3-kiSnzl",
        "outputId": "0a904b0e-ae87-44da-d857-7b7422beae15"
      },
      "execution_count": 354,
      "outputs": [
        {
          "output_type": "stream",
          "name": "stdout",
          "text": [
            "1.50e-01\n"
          ]
        }
      ]
    },
    {
      "cell_type": "code",
      "source": [
        "#Time Step\n",
        "delT = delta_t0\n",
        "tstep = 1e-8\n",
        "Tint = list(np.arange(0, delT, tstep))\n",
        "steps = 8"
      ],
      "metadata": {
        "id": "6OJnOHcTKFP-"
      },
      "execution_count": 355,
      "outputs": []
    },
    {
      "cell_type": "code",
      "source": [
        "# #generate trajectory and energy data\n",
        "# sublevels = [284, 300, 314, 320]\n",
        "# trajectory = {}\n",
        "# for sublevel in sublevels:\n",
        "#     initial_conditions = t0, x0, vx0, y0, vy0, delta_t0\n",
        "#     trajectory[sublevel] = perform_iterations_wout_energy(initial_conditions)"
      ],
      "metadata": {
        "id": "pHlq2G1sL4Lc"
      },
      "execution_count": 356,
      "outputs": []
    },
    {
      "cell_type": "code",
      "source": [
        "# sublevels = [284, 300, 314, 320]\n",
        "trajectory = {}\n",
        "for ti in Tint:\n",
        "    initial_conditions = t0, x0, vx0, y0, vy0, delta_t0\n",
        "    trajectory[ti] = perform_iterations_wout_energy(initial_conditions)"
      ],
      "metadata": {
        "colab": {
          "base_uri": "https://localhost:8080/",
          "height": 321
        },
        "id": "ehljbC3YOCs6",
        "outputId": "af8ff47f-a952-49b5-8c1a-8882aef24901"
      },
      "execution_count": 361,
      "outputs": [
        {
          "output_type": "error",
          "ename": "KeyboardInterrupt",
          "evalue": "",
          "traceback": [
            "\u001b[0;31m---------------------------------------------------------------------------\u001b[0m",
            "\u001b[0;31mKeyboardInterrupt\u001b[0m                         Traceback (most recent call last)",
            "\u001b[0;32m<ipython-input-361-19e22b4afcee>\u001b[0m in \u001b[0;36m<cell line: 3>\u001b[0;34m()\u001b[0m\n\u001b[1;32m      3\u001b[0m \u001b[0;32mfor\u001b[0m \u001b[0mti\u001b[0m \u001b[0;32min\u001b[0m \u001b[0mTint\u001b[0m\u001b[0;34m:\u001b[0m\u001b[0;34m\u001b[0m\u001b[0;34m\u001b[0m\u001b[0m\n\u001b[1;32m      4\u001b[0m     \u001b[0minitial_conditions\u001b[0m \u001b[0;34m=\u001b[0m \u001b[0mt0\u001b[0m\u001b[0;34m,\u001b[0m \u001b[0mx0\u001b[0m\u001b[0;34m,\u001b[0m \u001b[0mvx0\u001b[0m\u001b[0;34m,\u001b[0m \u001b[0my0\u001b[0m\u001b[0;34m,\u001b[0m \u001b[0mvy0\u001b[0m\u001b[0;34m,\u001b[0m \u001b[0mdelta_t0\u001b[0m\u001b[0;34m\u001b[0m\u001b[0;34m\u001b[0m\u001b[0m\n\u001b[0;32m----> 5\u001b[0;31m     \u001b[0mtrajectory\u001b[0m\u001b[0;34m[\u001b[0m\u001b[0mti\u001b[0m\u001b[0;34m]\u001b[0m \u001b[0;34m=\u001b[0m \u001b[0mperform_iterations_wout_energy\u001b[0m\u001b[0;34m(\u001b[0m\u001b[0minitial_conditions\u001b[0m\u001b[0;34m)\u001b[0m\u001b[0;34m\u001b[0m\u001b[0;34m\u001b[0m\u001b[0m\n\u001b[0m",
            "\u001b[0;32m<ipython-input-352-bf83e45c78c9>\u001b[0m in \u001b[0;36mperform_iterations_wout_energy\u001b[0;34m(initial_conditions)\u001b[0m\n\u001b[1;32m     21\u001b[0m     \u001b[0;32mwhile\u001b[0m \u001b[0mt\u001b[0m \u001b[0;34m<\u001b[0m \u001b[0mtLimit\u001b[0m\u001b[0;34m:\u001b[0m\u001b[0;34m\u001b[0m\u001b[0;34m\u001b[0m\u001b[0m\n\u001b[1;32m     22\u001b[0m \u001b[0;34m\u001b[0m\u001b[0m\n\u001b[0;32m---> 23\u001b[0;31m         \u001b[0mt\u001b[0m\u001b[0;34m,\u001b[0m \u001b[0mx\u001b[0m\u001b[0;34m,\u001b[0m \u001b[0mvx\u001b[0m\u001b[0;34m,\u001b[0m \u001b[0my\u001b[0m\u001b[0;34m,\u001b[0m \u001b[0mvy\u001b[0m\u001b[0;34m,\u001b[0m \u001b[0ma\u001b[0m\u001b[0;34m,\u001b[0m \u001b[0mdelta_t\u001b[0m \u001b[0;34m=\u001b[0m \u001b[0miterative_dynamics\u001b[0m\u001b[0;34m(\u001b[0m\u001b[0mt0\u001b[0m\u001b[0;34m,\u001b[0m \u001b[0mx0\u001b[0m\u001b[0;34m,\u001b[0m \u001b[0mvx0\u001b[0m\u001b[0;34m,\u001b[0m \u001b[0my0\u001b[0m\u001b[0;34m,\u001b[0m \u001b[0mvy0\u001b[0m\u001b[0;34m,\u001b[0m \u001b[0mdelta_t0\u001b[0m\u001b[0;34m)\u001b[0m\u001b[0;34m\u001b[0m\u001b[0;34m\u001b[0m\u001b[0m\n\u001b[0m\u001b[1;32m     24\u001b[0m \u001b[0;34m\u001b[0m\u001b[0m\n\u001b[1;32m     25\u001b[0m         \u001b[0;31m#Add new position values to list\u001b[0m\u001b[0;34m\u001b[0m\u001b[0;34m\u001b[0m\u001b[0m\n",
            "\u001b[0;32m<ipython-input-349-c5ee79aa14ab>\u001b[0m in \u001b[0;36miterative_dynamics\u001b[0;34m(t0, x0, vx0, y0, vy0, delta_t0)\u001b[0m\n\u001b[1;32m      7\u001b[0m \u001b[0;34m\u001b[0m\u001b[0m\n\u001b[1;32m      8\u001b[0m     \u001b[0;31m# Calculate the time step based on s0\u001b[0m\u001b[0;34m\u001b[0m\u001b[0;34m\u001b[0m\u001b[0m\n\u001b[0;32m----> 9\u001b[0;31m     \u001b[0mdelta_t\u001b[0m \u001b[0;34m=\u001b[0m \u001b[0mscaled_timestep\u001b[0m\u001b[0;34m(\u001b[0m\u001b[0ms0\u001b[0m\u001b[0;34m,\u001b[0m \u001b[0;36m0.001\u001b[0m\u001b[0;34m)\u001b[0m\u001b[0;34m\u001b[0m\u001b[0;34m\u001b[0m\u001b[0m\n\u001b[0m\u001b[1;32m     10\u001b[0m \u001b[0;34m\u001b[0m\u001b[0m\n\u001b[1;32m     11\u001b[0m     \u001b[0ma0\u001b[0m \u001b[0;34m=\u001b[0m \u001b[0mAcc\u001b[0m\u001b[0;34m(\u001b[0m\u001b[0ms0\u001b[0m\u001b[0;34m)\u001b[0m \u001b[0;31m#+ g\u001b[0m\u001b[0;34m\u001b[0m\u001b[0;34m\u001b[0m\u001b[0m\n",
            "\u001b[0;32m<ipython-input-348-1d2fbdf15e4e>\u001b[0m in \u001b[0;36mscaled_timestep\u001b[0;34m(distance_to_wire, r_max)\u001b[0m\n\u001b[1;32m     13\u001b[0m \u001b[0;34m\u001b[0m\u001b[0m\n\u001b[1;32m     14\u001b[0m     \u001b[0;31m# Ensure the time step stays within the specified range\u001b[0m\u001b[0;34m\u001b[0m\u001b[0;34m\u001b[0m\u001b[0m\n\u001b[0;32m---> 15\u001b[0;31m     \u001b[0mscaled_step\u001b[0m \u001b[0;34m=\u001b[0m \u001b[0mmax\u001b[0m\u001b[0;34m(\u001b[0m\u001b[0mmin\u001b[0m\u001b[0;34m(\u001b[0m\u001b[0mscaling_factor\u001b[0m\u001b[0;34m,\u001b[0m \u001b[0mmax_time_step\u001b[0m\u001b[0;34m)\u001b[0m\u001b[0;34m,\u001b[0m \u001b[0mmin_time_step\u001b[0m\u001b[0;34m)\u001b[0m\u001b[0;34m\u001b[0m\u001b[0;34m\u001b[0m\u001b[0m\n\u001b[0m\u001b[1;32m     16\u001b[0m \u001b[0;34m\u001b[0m\u001b[0m\n\u001b[1;32m     17\u001b[0m     \u001b[0;32mreturn\u001b[0m \u001b[0mscaled_step\u001b[0m\u001b[0;34m\u001b[0m\u001b[0;34m\u001b[0m\u001b[0m\n",
            "\u001b[0;31mKeyboardInterrupt\u001b[0m: "
          ]
        }
      ]
    },
    {
      "cell_type": "code",
      "source": [
        "#  print(trajectory[ti])"
      ],
      "metadata": {
        "id": "GP5Zx3kuXz4n"
      },
      "execution_count": 358,
      "outputs": []
    },
    {
      "cell_type": "code",
      "source": [
        "print(\"{:.2e}\".format(((x0**2 + y0**2)**0.5)))"
      ],
      "metadata": {
        "colab": {
          "base_uri": "https://localhost:8080/"
        },
        "id": "v1hWiEGPYc6M",
        "outputId": "7cabcd42-fb55-4948-e739-01371f3dcfca"
      },
      "execution_count": 359,
      "outputs": [
        {
          "output_type": "stream",
          "name": "stdout",
          "text": [
            "1.00e-03\n"
          ]
        }
      ]
    },
    {
      "cell_type": "markdown",
      "source": [
        "Plt Data"
      ],
      "metadata": {
        "id": "IXqoRb6KLOBK"
      }
    },
    {
      "cell_type": "code",
      "source": [
        "# Create a single row of four subplots with adjusted spacing\n",
        "fig, axs = plt.subplots(1, steps, figsize=(8, 4), sharey = True)  # Use sharex to share x-axis ticks\n",
        "\n",
        "# Add the permanent marker\n",
        "Rwire = 15e-6  # Radius of the wire\n",
        "x_center = 0  # X-coordinate of the center of the wire\n",
        "y_center = 0  # Y-coordinate of the center of the wire\n",
        "\n",
        "#Plot ranges\n",
        "xMin, xMax = -0.00024, 0.00014\n",
        "yMin, yMax = -0.00075, 0.0002\n",
        "xTicks = [-0.0002, -0.0001, 0, 0.0001, 0.0002]  # Define your desired tick positions\n",
        "\n",
        "# Plot the wire as a circle\n",
        "for ax in axs:\n",
        "    circle = plt.Circle((x_center, y_center), Rwire, color='grey', fill=True)\n",
        "    ax.add_artist(circle)\n",
        "\n",
        "# Plot the trajectories for each sublevel in a separate subplot\n",
        "for i, ti in enumerate(Tint[::len(axs)-1]): #I dont think it includes end point\n",
        "#   k = sublevel - 315\n",
        "    ax = axs[i]\n",
        "    ax.plot(trajectory[ti][0], trajectory[ti][1], color='blue', linestyle='dashed', linewidth=1)\n",
        "    ax.set_xlabel('x (m)', fontsize=12)\n",
        "    if i == 0:\n",
        "        ax.set_ylabel('y (m)', fontsize=12)\n",
        "    ax.set_title(f't: {\"{:.2e}\".format(ti)}', fontsize=12)\n",
        "    ax.set_xlim(xMin, xMax)\n",
        "    ax.set_ylim(yMin, yMax)\n",
        "    ax.set_aspect('equal')\n",
        "\n",
        "\n",
        "# Set the x-ticks for the entire row of subplots\n",
        "for i in range(4):\n",
        "    plt.sca(axs[i])\n",
        "    plt.xticks(xTicks, rotation=45)  # Set x ticks for the bottom subplot\n",
        "\n",
        "\n",
        "plt.tight_layout()\n",
        "plt.show()"
      ],
      "metadata": {
        "colab": {
          "base_uri": "https://localhost:8080/",
          "height": 579
        },
        "id": "14J3VJpFLNrr",
        "outputId": "3acb6313-1397-4038-bdf1-9bc4f0487dc2"
      },
      "execution_count": 360,
      "outputs": [
        {
          "output_type": "error",
          "ename": "KeyError",
          "evalue": "7e-08",
          "traceback": [
            "\u001b[0;31m---------------------------------------------------------------------------\u001b[0m",
            "\u001b[0;31mKeyError\u001b[0m                                  Traceback (most recent call last)",
            "\u001b[0;32m<ipython-input-360-4204a3b7f73c>\u001b[0m in \u001b[0;36m<cell line: 20>\u001b[0;34m()\u001b[0m\n\u001b[1;32m     21\u001b[0m \u001b[0;31m#   k = sublevel - 315\u001b[0m\u001b[0;34m\u001b[0m\u001b[0;34m\u001b[0m\u001b[0m\n\u001b[1;32m     22\u001b[0m     \u001b[0max\u001b[0m \u001b[0;34m=\u001b[0m \u001b[0maxs\u001b[0m\u001b[0;34m[\u001b[0m\u001b[0mi\u001b[0m\u001b[0;34m]\u001b[0m\u001b[0;34m\u001b[0m\u001b[0;34m\u001b[0m\u001b[0m\n\u001b[0;32m---> 23\u001b[0;31m     \u001b[0max\u001b[0m\u001b[0;34m.\u001b[0m\u001b[0mplot\u001b[0m\u001b[0;34m(\u001b[0m\u001b[0mtrajectory\u001b[0m\u001b[0;34m[\u001b[0m\u001b[0mti\u001b[0m\u001b[0;34m]\u001b[0m\u001b[0;34m[\u001b[0m\u001b[0;36m0\u001b[0m\u001b[0;34m]\u001b[0m\u001b[0;34m,\u001b[0m \u001b[0mtrajectory\u001b[0m\u001b[0;34m[\u001b[0m\u001b[0mti\u001b[0m\u001b[0;34m]\u001b[0m\u001b[0;34m[\u001b[0m\u001b[0;36m1\u001b[0m\u001b[0;34m]\u001b[0m\u001b[0;34m,\u001b[0m \u001b[0mcolor\u001b[0m\u001b[0;34m=\u001b[0m\u001b[0;34m'blue'\u001b[0m\u001b[0;34m,\u001b[0m \u001b[0mlinestyle\u001b[0m\u001b[0;34m=\u001b[0m\u001b[0;34m'dashed'\u001b[0m\u001b[0;34m,\u001b[0m \u001b[0mlinewidth\u001b[0m\u001b[0;34m=\u001b[0m\u001b[0;36m1\u001b[0m\u001b[0;34m)\u001b[0m\u001b[0;34m\u001b[0m\u001b[0;34m\u001b[0m\u001b[0m\n\u001b[0m\u001b[1;32m     24\u001b[0m     \u001b[0max\u001b[0m\u001b[0;34m.\u001b[0m\u001b[0mset_xlabel\u001b[0m\u001b[0;34m(\u001b[0m\u001b[0;34m'x (m)'\u001b[0m\u001b[0;34m,\u001b[0m \u001b[0mfontsize\u001b[0m\u001b[0;34m=\u001b[0m\u001b[0;36m12\u001b[0m\u001b[0;34m)\u001b[0m\u001b[0;34m\u001b[0m\u001b[0;34m\u001b[0m\u001b[0m\n\u001b[1;32m     25\u001b[0m     \u001b[0;32mif\u001b[0m \u001b[0mi\u001b[0m \u001b[0;34m==\u001b[0m \u001b[0;36m0\u001b[0m\u001b[0;34m:\u001b[0m\u001b[0;34m\u001b[0m\u001b[0;34m\u001b[0m\u001b[0m\n",
            "\u001b[0;31mKeyError\u001b[0m: 7e-08"
          ]
        },
        {
          "output_type": "display_data",
          "data": {
            "text/plain": [
              "<Figure size 800x400 with 8 Axes>"
            ],
            "image/png": "[encoded data removed]"
          },
          "metadata": {}
        }
      ]
    },
    {
      "cell_type": "code",
      "source": [
        "# Create a single row of four subplots with adjusted spacing\n",
        "fig, axs = plt.subplots(1, 4, figsize=(8, 4), sharey=True)  # Use sharex to share x-axis ticks\n",
        "\n",
        "# Add the permanent marker\n",
        "Rwire = 15e-6  # Radius of the wire\n",
        "x_center = 0  # X-coordinate of the center of the wire\n",
        "y_center = 0  # Y-coordinate of the center of the wire\n",
        "\n",
        "# Plot ranges\n",
        "xMin, xMax = -0.00024, 0.00014\n",
        "yMin, yMax = -0.00075, 0.0002\n",
        "xTicks = [-0.0002, -0.0001, 0, 0.0001, 0.0002]  # Define your desired tick positions\n",
        "\n",
        "# Plot the wire as a circle\n",
        "for ax in axs:\n",
        "    circle = plt.Circle((x_center, y_center), Rwire, color='grey', fill=True)\n",
        "    ax.add_artist(circle)\n",
        "\n",
        "# Plot the trajectories for each sublevel in a separate subplot\n",
        "for i, sublevel in enumerate(sublevels):\n",
        "    k = sublevel - 315\n",
        "    ax = axs[i]\n",
        "    ax.plot(trajectory[sublevel][0], trajectory[sublevel][1], color='blue', linestyle='dashed', linewidth=1)\n",
        "    ax.set_xlabel('x (μm)', fontsize=12)\n",
        "    if i == 0:\n",
        "        ax.set_ylabel('y (μm)', fontsize=12)\n",
        "    ax.set_title(f'k: {k}', fontsize=12)\n",
        "    ax.set_xlim(xMin, xMax)\n",
        "    ax.set_ylim(yMin, yMax)\n",
        "    ax.set_aspect('equal')\n",
        "\n",
        "# Convert axis labels to micrometers\n",
        "for ax in axs:\n",
        "    x_ticks = ax.get_xticks() * 1e6\n",
        "    y_ticks = ax.get_yticks() * 1e6\n",
        "\n",
        "ax.set_xticklabels([f'{tick:.0f}' for tick in x_ticks])\n",
        "ax.set_yticklabels([f'{tick:.0f}' for tick in y_ticks])\n",
        "\n",
        "# Set the x-ticks for the entire row of subplots\n",
        "for i in range(4):\n",
        "    plt.sca(axs[i])\n",
        "    plt.xticks(xTicks, rotation=45)  # Set x ticks for the bottom subplot\n",
        "\n",
        "plt.tight_layout()\n",
        "plt.show()"
      ],
      "metadata": {
        "id": "hAWzoN4EPhAD"
      },
      "execution_count": null,
      "outputs": []
    },
    {
      "cell_type": "code",
      "source": [],
      "metadata": {
        "id": "AnQbyqKjQUll"
      },
      "execution_count": null,
      "outputs": []
    },
    {
      "cell_type": "code",
      "source": [],
      "metadata": {
        "id": "jTfDIK_BQUwR"
      },
      "execution_count": null,
      "outputs": []
    }
  ]
}